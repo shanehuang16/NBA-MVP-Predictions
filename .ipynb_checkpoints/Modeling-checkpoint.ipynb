{
 "cells": [
  {
   "cell_type": "code",
   "execution_count": 1,
   "metadata": {},
   "outputs": [],
   "source": [
    "import pandas as pd\n",
    "import numpy as np"
   ]
  },
  {
   "cell_type": "code",
   "execution_count": 2,
   "metadata": {},
   "outputs": [],
   "source": [
    "# Load in data\n",
    "data = pd.read_csv('Cleaned Data.csv')"
   ]
  },
  {
   "cell_type": "code",
   "execution_count": 136,
   "metadata": {},
   "outputs": [],
   "source": [
    "# Set up training and testing data\n",
    "# 2020 will be the testing data. All years before 2020 will be the training data\n",
    "\n",
    "X_train = data.loc[data['Year']!=2020].drop(['Share','MVP'], axis=1)\n",
    "X_test = data.loc[data['Year']==2020].drop(['Share','MVP'], axis=1)\n",
    "\n",
    "y_train = data.loc[data['Year']!=2020, 'Share']\n",
    "y_test = data.loc[data['Year']==2020, 'Share']\n",
    "\n",
    "names_test = data.loc[data['Year']==2020, 'Player'].reset_index(drop=True)"
   ]
  },
  {
   "cell_type": "code",
   "execution_count": null,
   "metadata": {},
   "outputs": [],
   "source": [
    "#X_train.head()\n",
    "#X_train.dtypes"
   ]
  },
  {
   "cell_type": "code",
   "execution_count": 192,
   "metadata": {},
   "outputs": [],
   "source": [
    "from sklearn.pipeline import Pipeline, FeatureUnion\n",
    "from sklearn.preprocessing import FunctionTransformer, StandardScaler\n",
    "from sklearn.preprocessing import LabelEncoder, OneHotEncoder\n",
    "from sklearn.base import TransformerMixin\n",
    "from sklearn.preprocessing import MinMaxScaler\n",
    "\n",
    "from sklearn.metrics import mean_squared_error, r2_score, mean_absolute_error"
   ]
  },
  {
   "cell_type": "code",
   "execution_count": 5,
   "metadata": {},
   "outputs": [],
   "source": [
    "class ColumnExtractor(TransformerMixin):\n",
    "    \n",
    "    def __init__(self, cols):\n",
    "        self.cols = cols\n",
    "    \n",
    "    def fit(self, X, y=None):\n",
    "        return self\n",
    "    \n",
    "    def transform(self, X):\n",
    "        Xcols = X[self.cols]\n",
    "        return Xcols"
   ]
  },
  {
   "cell_type": "code",
   "execution_count": 73,
   "metadata": {},
   "outputs": [],
   "source": [
    "#  Numerical features\n",
    "numeric_columns = X_train.select_dtypes(exclude='object').columns\n",
    "\n",
    "#  Categorical features\n",
    "categorical_columns = X_train.select_dtypes('object').columns\n",
    "\n",
    "#  Define the pipeline to fix the data\n",
    "pipeline = Pipeline([\n",
    "    ('features', FeatureUnion([\n",
    "        ('numeric', Pipeline([\n",
    "            ('extract', ColumnExtractor(numeric_columns)),\n",
    "            ('scale', MinMaxScaler())\n",
    "            #('scale', StandardScaler())\n",
    "        ])),\n",
    "        ('categorical', Pipeline([\n",
    "            ('extract', ColumnExtractor(categorical_columns)),\n",
    "            ('encode', OneHotEncoder(handle_unknown='ignore', sparse=False))\n",
    "        ])),\n",
    "    ]))\n",
    "])"
   ]
  },
  {
   "cell_type": "markdown",
   "metadata": {},
   "source": [
    "# Regression"
   ]
  },
  {
   "cell_type": "markdown",
   "metadata": {},
   "source": [
    "### Linear Regression"
   ]
  },
  {
   "cell_type": "code",
   "execution_count": 91,
   "metadata": {},
   "outputs": [],
   "source": [
    "from sklearn.linear_model import LinearRegression"
   ]
  },
  {
   "cell_type": "code",
   "execution_count": 92,
   "metadata": {},
   "outputs": [
    {
     "data": {
      "text/plain": [
       "''"
      ]
     },
     "execution_count": 92,
     "metadata": {},
     "output_type": "execute_result"
    }
   ],
   "source": [
    "lr_pipeline = Pipeline([('pipeline', pipeline),\n",
    "                         ('lr', LinearRegression())])\n",
    "\n",
    "lr_pipeline.fit(X_train, y_train)\n",
    ";"
   ]
  },
  {
   "cell_type": "code",
   "execution_count": 193,
   "metadata": {},
   "outputs": [
    {
     "name": "stdout",
     "output_type": "stream",
     "text": [
      "0.25082797497312215\n",
      "0.03893070684915245\n",
      "0.179229628871864\n"
     ]
    }
   ],
   "source": [
    "yhat_train = lr_pipeline.predict(X_train)\n",
    "\n",
    "rmse = np.sqrt(mean_squared_error(y_train, yhat_train))\n",
    "print(rmse)\n",
    "print(r2_score(y_train, yhat_train))\n",
    "print(mean_absolute_error(y_train, yhat_train))"
   ]
  },
  {
   "cell_type": "code",
   "execution_count": 150,
   "metadata": {},
   "outputs": [
    {
     "data": {
      "text/html": [
       "<div>\n",
       "<style scoped>\n",
       "    .dataframe tbody tr th:only-of-type {\n",
       "        vertical-align: middle;\n",
       "    }\n",
       "\n",
       "    .dataframe tbody tr th {\n",
       "        vertical-align: top;\n",
       "    }\n",
       "\n",
       "    .dataframe thead th {\n",
       "        text-align: right;\n",
       "    }\n",
       "</style>\n",
       "<table border=\"1\" class=\"dataframe\">\n",
       "  <thead>\n",
       "    <tr style=\"text-align: right;\">\n",
       "      <th></th>\n",
       "      <th>Player</th>\n",
       "      <th>Predicted Share</th>\n",
       "    </tr>\n",
       "  </thead>\n",
       "  <tbody>\n",
       "    <tr>\n",
       "      <td>0</td>\n",
       "      <td>Giannis Antetokounmpo</td>\n",
       "      <td>8.114624e-01</td>\n",
       "    </tr>\n",
       "    <tr>\n",
       "      <td>1</td>\n",
       "      <td>LeBron James</td>\n",
       "      <td>3.086395e-01</td>\n",
       "    </tr>\n",
       "    <tr>\n",
       "      <td>2</td>\n",
       "      <td>James Harden</td>\n",
       "      <td>6.339569e-01</td>\n",
       "    </tr>\n",
       "    <tr>\n",
       "      <td>3</td>\n",
       "      <td>Luka Dončić</td>\n",
       "      <td>4.461899e+12</td>\n",
       "    </tr>\n",
       "    <tr>\n",
       "      <td>4</td>\n",
       "      <td>Kawhi Leonard</td>\n",
       "      <td>-6.370279e+09</td>\n",
       "    </tr>\n",
       "    <tr>\n",
       "      <td>5</td>\n",
       "      <td>Anthony Davis</td>\n",
       "      <td>2.182202e+12</td>\n",
       "    </tr>\n",
       "    <tr>\n",
       "      <td>6</td>\n",
       "      <td>Chris Paul</td>\n",
       "      <td>4.285126e-01</td>\n",
       "    </tr>\n",
       "    <tr>\n",
       "      <td>7</td>\n",
       "      <td>Damian Lillard</td>\n",
       "      <td>8.000183e-02</td>\n",
       "    </tr>\n",
       "    <tr>\n",
       "      <td>8</td>\n",
       "      <td>Nikola Jokić</td>\n",
       "      <td>2.507019e-02</td>\n",
       "    </tr>\n",
       "    <tr>\n",
       "      <td>9</td>\n",
       "      <td>Pascal Siakam</td>\n",
       "      <td>2.723052e+12</td>\n",
       "    </tr>\n",
       "    <tr>\n",
       "      <td>10</td>\n",
       "      <td>Jimmy Butler</td>\n",
       "      <td>1.051179e+12</td>\n",
       "    </tr>\n",
       "    <tr>\n",
       "      <td>11</td>\n",
       "      <td>Jayson Tatum</td>\n",
       "      <td>3.635621e+12</td>\n",
       "    </tr>\n",
       "  </tbody>\n",
       "</table>\n",
       "</div>"
      ],
      "text/plain": [
       "                   Player  Predicted Share\n",
       "0   Giannis Antetokounmpo     8.114624e-01\n",
       "1            LeBron James     3.086395e-01\n",
       "2            James Harden     6.339569e-01\n",
       "3             Luka Dončić     4.461899e+12\n",
       "4           Kawhi Leonard    -6.370279e+09\n",
       "5           Anthony Davis     2.182202e+12\n",
       "6              Chris Paul     4.285126e-01\n",
       "7          Damian Lillard     8.000183e-02\n",
       "8            Nikola Jokić     2.507019e-02\n",
       "9           Pascal Siakam     2.723052e+12\n",
       "10           Jimmy Butler     1.051179e+12\n",
       "11           Jayson Tatum     3.635621e+12"
      ]
     },
     "execution_count": 150,
     "metadata": {},
     "output_type": "execute_result"
    }
   ],
   "source": [
    "yhat = lr_pipeline.predict(X_test)\n",
    "pd.concat([names_test,pd.Series(yhat).rename('Predicted Share')], axis=1)"
   ]
  },
  {
   "cell_type": "markdown",
   "metadata": {},
   "source": [
    "### Lasso"
   ]
  },
  {
   "cell_type": "code",
   "execution_count": 38,
   "metadata": {},
   "outputs": [],
   "source": [
    "from sklearn.linear_model import LassoCV"
   ]
  },
  {
   "cell_type": "code",
   "execution_count": 84,
   "metadata": {},
   "outputs": [
    {
     "data": {
      "text/plain": [
       "''"
      ]
     },
     "execution_count": 84,
     "metadata": {},
     "output_type": "execute_result"
    }
   ],
   "source": [
    "lasso_pipeline = Pipeline([('pipeline', pipeline),\n",
    "                         ('lasso', LassoCV())])\n",
    "\n",
    "lasso_pipeline.fit(X_train, y_train)\n",
    ";"
   ]
  },
  {
   "cell_type": "code",
   "execution_count": 194,
   "metadata": {},
   "outputs": [
    {
     "name": "stdout",
     "output_type": "stream",
     "text": [
      "0.25361993262591986\n",
      "0.017416372711779426\n",
      "0.20236858419540926\n"
     ]
    }
   ],
   "source": [
    "yhat_train = lasso_pipeline.predict(X_train)\n",
    "\n",
    "rmse = np.sqrt(mean_squared_error(y_train, yhat_train))\n",
    "print(rmse)\n",
    "print(r2_score(y_train, yhat_train))\n",
    "print(mean_absolute_error(y_train, yhat_train))"
   ]
  },
  {
   "cell_type": "code",
   "execution_count": 146,
   "metadata": {},
   "outputs": [
    {
     "data": {
      "text/html": [
       "<div>\n",
       "<style scoped>\n",
       "    .dataframe tbody tr th:only-of-type {\n",
       "        vertical-align: middle;\n",
       "    }\n",
       "\n",
       "    .dataframe tbody tr th {\n",
       "        vertical-align: top;\n",
       "    }\n",
       "\n",
       "    .dataframe thead th {\n",
       "        text-align: right;\n",
       "    }\n",
       "</style>\n",
       "<table border=\"1\" class=\"dataframe\">\n",
       "  <thead>\n",
       "    <tr style=\"text-align: right;\">\n",
       "      <th></th>\n",
       "      <th>Player</th>\n",
       "      <th>Predicted Share</th>\n",
       "    </tr>\n",
       "  </thead>\n",
       "  <tbody>\n",
       "    <tr>\n",
       "      <td>0</td>\n",
       "      <td>Giannis Antetokounmpo</td>\n",
       "      <td>0.398631</td>\n",
       "    </tr>\n",
       "    <tr>\n",
       "      <td>1</td>\n",
       "      <td>LeBron James</td>\n",
       "      <td>0.394039</td>\n",
       "    </tr>\n",
       "    <tr>\n",
       "      <td>2</td>\n",
       "      <td>James Harden</td>\n",
       "      <td>0.374683</td>\n",
       "    </tr>\n",
       "    <tr>\n",
       "      <td>3</td>\n",
       "      <td>Luka Dončić</td>\n",
       "      <td>0.171500</td>\n",
       "    </tr>\n",
       "    <tr>\n",
       "      <td>4</td>\n",
       "      <td>Kawhi Leonard</td>\n",
       "      <td>0.152160</td>\n",
       "    </tr>\n",
       "    <tr>\n",
       "      <td>5</td>\n",
       "      <td>Anthony Davis</td>\n",
       "      <td>0.260719</td>\n",
       "    </tr>\n",
       "    <tr>\n",
       "      <td>6</td>\n",
       "      <td>Chris Paul</td>\n",
       "      <td>0.039916</td>\n",
       "    </tr>\n",
       "    <tr>\n",
       "      <td>7</td>\n",
       "      <td>Damian Lillard</td>\n",
       "      <td>0.196596</td>\n",
       "    </tr>\n",
       "    <tr>\n",
       "      <td>8</td>\n",
       "      <td>Nikola Jokić</td>\n",
       "      <td>0.156222</td>\n",
       "    </tr>\n",
       "    <tr>\n",
       "      <td>9</td>\n",
       "      <td>Pascal Siakam</td>\n",
       "      <td>-0.007998</td>\n",
       "    </tr>\n",
       "    <tr>\n",
       "      <td>10</td>\n",
       "      <td>Jimmy Butler</td>\n",
       "      <td>0.086411</td>\n",
       "    </tr>\n",
       "    <tr>\n",
       "      <td>11</td>\n",
       "      <td>Jayson Tatum</td>\n",
       "      <td>0.010384</td>\n",
       "    </tr>\n",
       "  </tbody>\n",
       "</table>\n",
       "</div>"
      ],
      "text/plain": [
       "                   Player  Predicted Share\n",
       "0   Giannis Antetokounmpo         0.398631\n",
       "1            LeBron James         0.394039\n",
       "2            James Harden         0.374683\n",
       "3             Luka Dončić         0.171500\n",
       "4           Kawhi Leonard         0.152160\n",
       "5           Anthony Davis         0.260719\n",
       "6              Chris Paul         0.039916\n",
       "7          Damian Lillard         0.196596\n",
       "8            Nikola Jokić         0.156222\n",
       "9           Pascal Siakam        -0.007998\n",
       "10           Jimmy Butler         0.086411\n",
       "11           Jayson Tatum         0.010384"
      ]
     },
     "execution_count": 146,
     "metadata": {},
     "output_type": "execute_result"
    }
   ],
   "source": [
    "yhat = lasso_pipeline.predict(X_test)\n",
    "pd.concat([names_test,pd.Series(yhat).rename('Predicted Share')], axis=1)"
   ]
  },
  {
   "cell_type": "markdown",
   "metadata": {},
   "source": [
    "### KNN"
   ]
  },
  {
   "cell_type": "code",
   "execution_count": 65,
   "metadata": {},
   "outputs": [],
   "source": [
    "from sklearn.neighbors import KNeighborsRegressor"
   ]
  },
  {
   "cell_type": "code",
   "execution_count": 83,
   "metadata": {},
   "outputs": [
    {
     "data": {
      "text/plain": [
       "''"
      ]
     },
     "execution_count": 83,
     "metadata": {},
     "output_type": "execute_result"
    }
   ],
   "source": [
    "knn_pipeline = Pipeline([('pipeline', pipeline),\n",
    "                         ('knn', KNeighborsRegressor())])\n",
    "\n",
    "knn_pipeline.fit(X_train, y_train)\n",
    ";"
   ]
  },
  {
   "cell_type": "code",
   "execution_count": 195,
   "metadata": {},
   "outputs": [
    {
     "name": "stdout",
     "output_type": "stream",
     "text": [
      "0.2707033465455976\n",
      "-0.11941212584848482\n",
      "0.19350633802816902\n"
     ]
    }
   ],
   "source": [
    "yhat_train = knn_pipeline.predict(X_train)\n",
    "rmse = np.sqrt(mean_squared_error(y_train, yhat_train))\n",
    "print(rmse)\n",
    "print(r2_score(y_train, yhat_train))\n",
    "print(mean_absolute_error(y_train, yhat_train))"
   ]
  },
  {
   "cell_type": "code",
   "execution_count": 147,
   "metadata": {},
   "outputs": [
    {
     "data": {
      "text/html": [
       "<div>\n",
       "<style scoped>\n",
       "    .dataframe tbody tr th:only-of-type {\n",
       "        vertical-align: middle;\n",
       "    }\n",
       "\n",
       "    .dataframe tbody tr th {\n",
       "        vertical-align: top;\n",
       "    }\n",
       "\n",
       "    .dataframe thead th {\n",
       "        text-align: right;\n",
       "    }\n",
       "</style>\n",
       "<table border=\"1\" class=\"dataframe\">\n",
       "  <thead>\n",
       "    <tr style=\"text-align: right;\">\n",
       "      <th></th>\n",
       "      <th>Player</th>\n",
       "      <th>Predicted Share</th>\n",
       "    </tr>\n",
       "  </thead>\n",
       "  <tbody>\n",
       "    <tr>\n",
       "      <td>0</td>\n",
       "      <td>Giannis Antetokounmpo</td>\n",
       "      <td>0.2042</td>\n",
       "    </tr>\n",
       "    <tr>\n",
       "      <td>1</td>\n",
       "      <td>LeBron James</td>\n",
       "      <td>0.3938</td>\n",
       "    </tr>\n",
       "    <tr>\n",
       "      <td>2</td>\n",
       "      <td>James Harden</td>\n",
       "      <td>0.6392</td>\n",
       "    </tr>\n",
       "    <tr>\n",
       "      <td>3</td>\n",
       "      <td>Luka Dončić</td>\n",
       "      <td>0.0294</td>\n",
       "    </tr>\n",
       "    <tr>\n",
       "      <td>4</td>\n",
       "      <td>Kawhi Leonard</td>\n",
       "      <td>0.1990</td>\n",
       "    </tr>\n",
       "    <tr>\n",
       "      <td>5</td>\n",
       "      <td>Anthony Davis</td>\n",
       "      <td>0.4030</td>\n",
       "    </tr>\n",
       "    <tr>\n",
       "      <td>6</td>\n",
       "      <td>Chris Paul</td>\n",
       "      <td>0.1950</td>\n",
       "    </tr>\n",
       "    <tr>\n",
       "      <td>7</td>\n",
       "      <td>Damian Lillard</td>\n",
       "      <td>0.0608</td>\n",
       "    </tr>\n",
       "    <tr>\n",
       "      <td>8</td>\n",
       "      <td>Nikola Jokić</td>\n",
       "      <td>0.0534</td>\n",
       "    </tr>\n",
       "    <tr>\n",
       "      <td>9</td>\n",
       "      <td>Pascal Siakam</td>\n",
       "      <td>0.0168</td>\n",
       "    </tr>\n",
       "    <tr>\n",
       "      <td>10</td>\n",
       "      <td>Jimmy Butler</td>\n",
       "      <td>0.1998</td>\n",
       "    </tr>\n",
       "    <tr>\n",
       "      <td>11</td>\n",
       "      <td>Jayson Tatum</td>\n",
       "      <td>0.0200</td>\n",
       "    </tr>\n",
       "  </tbody>\n",
       "</table>\n",
       "</div>"
      ],
      "text/plain": [
       "                   Player  Predicted Share\n",
       "0   Giannis Antetokounmpo           0.2042\n",
       "1            LeBron James           0.3938\n",
       "2            James Harden           0.6392\n",
       "3             Luka Dončić           0.0294\n",
       "4           Kawhi Leonard           0.1990\n",
       "5           Anthony Davis           0.4030\n",
       "6              Chris Paul           0.1950\n",
       "7          Damian Lillard           0.0608\n",
       "8            Nikola Jokić           0.0534\n",
       "9           Pascal Siakam           0.0168\n",
       "10           Jimmy Butler           0.1998\n",
       "11           Jayson Tatum           0.0200"
      ]
     },
     "execution_count": 147,
     "metadata": {},
     "output_type": "execute_result"
    }
   ],
   "source": [
    "yhat = knn_pipeline.predict(X_test)\n",
    "pd.concat([names_test,pd.Series(yhat).rename('Predicted Share')], axis=1)"
   ]
  },
  {
   "cell_type": "markdown",
   "metadata": {},
   "source": [
    "### Ridge"
   ]
  },
  {
   "cell_type": "code",
   "execution_count": 85,
   "metadata": {},
   "outputs": [],
   "source": [
    "from sklearn.linear_model import Ridge"
   ]
  },
  {
   "cell_type": "code",
   "execution_count": 86,
   "metadata": {},
   "outputs": [
    {
     "data": {
      "text/plain": [
       "''"
      ]
     },
     "execution_count": 86,
     "metadata": {},
     "output_type": "execute_result"
    }
   ],
   "source": [
    "ridge_pipeline = Pipeline([('pipeline', pipeline),\n",
    "                         ('ridge', Ridge())])\n",
    "\n",
    "ridge_pipeline.fit(X_train, y_train)\n",
    ";"
   ]
  },
  {
   "cell_type": "code",
   "execution_count": 196,
   "metadata": {},
   "outputs": [
    {
     "name": "stdout",
     "output_type": "stream",
     "text": [
      "0.25177505238141085\n",
      "0.031659385559457465\n",
      "0.19098163520437195\n"
     ]
    }
   ],
   "source": [
    "yhat_train = ridge_pipeline.predict(X_train)\n",
    "rmse = np.sqrt(mean_squared_error(y_train, yhat_train))\n",
    "print(rmse)\n",
    "print(r2_score(y_train, yhat_train))\n",
    "print(mean_absolute_error(y_train, yhat_train))"
   ]
  },
  {
   "cell_type": "code",
   "execution_count": 148,
   "metadata": {},
   "outputs": [
    {
     "data": {
      "text/html": [
       "<div>\n",
       "<style scoped>\n",
       "    .dataframe tbody tr th:only-of-type {\n",
       "        vertical-align: middle;\n",
       "    }\n",
       "\n",
       "    .dataframe tbody tr th {\n",
       "        vertical-align: top;\n",
       "    }\n",
       "\n",
       "    .dataframe thead th {\n",
       "        text-align: right;\n",
       "    }\n",
       "</style>\n",
       "<table border=\"1\" class=\"dataframe\">\n",
       "  <thead>\n",
       "    <tr style=\"text-align: right;\">\n",
       "      <th></th>\n",
       "      <th>Player</th>\n",
       "      <th>Predicted Share</th>\n",
       "    </tr>\n",
       "  </thead>\n",
       "  <tbody>\n",
       "    <tr>\n",
       "      <td>0</td>\n",
       "      <td>Giannis Antetokounmpo</td>\n",
       "      <td>0.560758</td>\n",
       "    </tr>\n",
       "    <tr>\n",
       "      <td>1</td>\n",
       "      <td>LeBron James</td>\n",
       "      <td>0.376962</td>\n",
       "    </tr>\n",
       "    <tr>\n",
       "      <td>2</td>\n",
       "      <td>James Harden</td>\n",
       "      <td>0.507050</td>\n",
       "    </tr>\n",
       "    <tr>\n",
       "      <td>3</td>\n",
       "      <td>Luka Dončić</td>\n",
       "      <td>0.072200</td>\n",
       "    </tr>\n",
       "    <tr>\n",
       "      <td>4</td>\n",
       "      <td>Kawhi Leonard</td>\n",
       "      <td>0.212800</td>\n",
       "    </tr>\n",
       "    <tr>\n",
       "      <td>5</td>\n",
       "      <td>Anthony Davis</td>\n",
       "      <td>0.201750</td>\n",
       "    </tr>\n",
       "    <tr>\n",
       "      <td>6</td>\n",
       "      <td>Chris Paul</td>\n",
       "      <td>0.052421</td>\n",
       "    </tr>\n",
       "    <tr>\n",
       "      <td>7</td>\n",
       "      <td>Damian Lillard</td>\n",
       "      <td>0.130088</td>\n",
       "    </tr>\n",
       "    <tr>\n",
       "      <td>8</td>\n",
       "      <td>Nikola Jokić</td>\n",
       "      <td>0.122743</td>\n",
       "    </tr>\n",
       "    <tr>\n",
       "      <td>9</td>\n",
       "      <td>Pascal Siakam</td>\n",
       "      <td>-0.169191</td>\n",
       "    </tr>\n",
       "    <tr>\n",
       "      <td>10</td>\n",
       "      <td>Jimmy Butler</td>\n",
       "      <td>0.241802</td>\n",
       "    </tr>\n",
       "    <tr>\n",
       "      <td>11</td>\n",
       "      <td>Jayson Tatum</td>\n",
       "      <td>-0.049907</td>\n",
       "    </tr>\n",
       "  </tbody>\n",
       "</table>\n",
       "</div>"
      ],
      "text/plain": [
       "                   Player  Predicted Share\n",
       "0   Giannis Antetokounmpo         0.560758\n",
       "1            LeBron James         0.376962\n",
       "2            James Harden         0.507050\n",
       "3             Luka Dončić         0.072200\n",
       "4           Kawhi Leonard         0.212800\n",
       "5           Anthony Davis         0.201750\n",
       "6              Chris Paul         0.052421\n",
       "7          Damian Lillard         0.130088\n",
       "8            Nikola Jokić         0.122743\n",
       "9           Pascal Siakam        -0.169191\n",
       "10           Jimmy Butler         0.241802\n",
       "11           Jayson Tatum        -0.049907"
      ]
     },
     "execution_count": 148,
     "metadata": {},
     "output_type": "execute_result"
    }
   ],
   "source": [
    "yhat = ridge_pipeline.predict(X_test)\n",
    "pd.concat([names_test,pd.Series(yhat).rename('Predicted Share')], axis=1)"
   ]
  },
  {
   "cell_type": "markdown",
   "metadata": {},
   "source": [
    "### Trees"
   ]
  },
  {
   "cell_type": "code",
   "execution_count": 102,
   "metadata": {},
   "outputs": [],
   "source": [
    "from sklearn.tree import DecisionTreeRegressor"
   ]
  },
  {
   "cell_type": "code",
   "execution_count": 103,
   "metadata": {},
   "outputs": [
    {
     "data": {
      "text/plain": [
       "''"
      ]
     },
     "execution_count": 103,
     "metadata": {},
     "output_type": "execute_result"
    }
   ],
   "source": [
    "tree_pipeline = Pipeline([('pipeline', pipeline),\n",
    "                         ('tree', DecisionTreeRegressor())])\n",
    "\n",
    "tree_pipeline.fit(X_train, y_train)\n",
    ";"
   ]
  },
  {
   "cell_type": "code",
   "execution_count": 197,
   "metadata": {},
   "outputs": [
    {
     "name": "stdout",
     "output_type": "stream",
     "text": [
      "0.2318611015727632\n",
      "0.17878183484848476\n",
      "0.1246619718309859\n"
     ]
    }
   ],
   "source": [
    "yhat_train = tree_pipeline.predict(X_train)\n",
    "rmse = np.sqrt(mean_squared_error(y_train, yhat_train))\n",
    "print(rmse)\n",
    "print(r2_score(y_train, yhat_train))\n",
    "print(mean_absolute_error(y_train, yhat_train))"
   ]
  },
  {
   "cell_type": "code",
   "execution_count": 149,
   "metadata": {},
   "outputs": [
    {
     "data": {
      "text/html": [
       "<div>\n",
       "<style scoped>\n",
       "    .dataframe tbody tr th:only-of-type {\n",
       "        vertical-align: middle;\n",
       "    }\n",
       "\n",
       "    .dataframe tbody tr th {\n",
       "        vertical-align: top;\n",
       "    }\n",
       "\n",
       "    .dataframe thead th {\n",
       "        text-align: right;\n",
       "    }\n",
       "</style>\n",
       "<table border=\"1\" class=\"dataframe\">\n",
       "  <thead>\n",
       "    <tr style=\"text-align: right;\">\n",
       "      <th></th>\n",
       "      <th>Player</th>\n",
       "      <th>Predicted Share</th>\n",
       "    </tr>\n",
       "  </thead>\n",
       "  <tbody>\n",
       "    <tr>\n",
       "      <td>0</td>\n",
       "      <td>Giannis Antetokounmpo</td>\n",
       "      <td>0.393</td>\n",
       "    </tr>\n",
       "    <tr>\n",
       "      <td>1</td>\n",
       "      <td>LeBron James</td>\n",
       "      <td>0.029</td>\n",
       "    </tr>\n",
       "    <tr>\n",
       "      <td>2</td>\n",
       "      <td>James Harden</td>\n",
       "      <td>0.441</td>\n",
       "    </tr>\n",
       "    <tr>\n",
       "      <td>3</td>\n",
       "      <td>Luka Dončić</td>\n",
       "      <td>0.271</td>\n",
       "    </tr>\n",
       "    <tr>\n",
       "      <td>4</td>\n",
       "      <td>Kawhi Leonard</td>\n",
       "      <td>0.029</td>\n",
       "    </tr>\n",
       "    <tr>\n",
       "      <td>5</td>\n",
       "      <td>Anthony Davis</td>\n",
       "      <td>0.049</td>\n",
       "    </tr>\n",
       "    <tr>\n",
       "      <td>6</td>\n",
       "      <td>Chris Paul</td>\n",
       "      <td>0.001</td>\n",
       "    </tr>\n",
       "    <tr>\n",
       "      <td>7</td>\n",
       "      <td>Damian Lillard</td>\n",
       "      <td>0.271</td>\n",
       "    </tr>\n",
       "    <tr>\n",
       "      <td>8</td>\n",
       "      <td>Nikola Jokić</td>\n",
       "      <td>0.001</td>\n",
       "    </tr>\n",
       "    <tr>\n",
       "      <td>9</td>\n",
       "      <td>Pascal Siakam</td>\n",
       "      <td>0.001</td>\n",
       "    </tr>\n",
       "    <tr>\n",
       "      <td>10</td>\n",
       "      <td>Jimmy Butler</td>\n",
       "      <td>0.001</td>\n",
       "    </tr>\n",
       "    <tr>\n",
       "      <td>11</td>\n",
       "      <td>Jayson Tatum</td>\n",
       "      <td>0.005</td>\n",
       "    </tr>\n",
       "  </tbody>\n",
       "</table>\n",
       "</div>"
      ],
      "text/plain": [
       "                   Player  Predicted Share\n",
       "0   Giannis Antetokounmpo            0.393\n",
       "1            LeBron James            0.029\n",
       "2            James Harden            0.441\n",
       "3             Luka Dončić            0.271\n",
       "4           Kawhi Leonard            0.029\n",
       "5           Anthony Davis            0.049\n",
       "6              Chris Paul            0.001\n",
       "7          Damian Lillard            0.271\n",
       "8            Nikola Jokić            0.001\n",
       "9           Pascal Siakam            0.001\n",
       "10           Jimmy Butler            0.001\n",
       "11           Jayson Tatum            0.005"
      ]
     },
     "execution_count": 149,
     "metadata": {},
     "output_type": "execute_result"
    }
   ],
   "source": [
    "yhat = tree_pipeline.predict(X_test)\n",
    "pd.concat([names_test,pd.Series(yhat).rename('Predicted Share')], axis=1)"
   ]
  },
  {
   "cell_type": "markdown",
   "metadata": {},
   "source": [
    "# Classification"
   ]
  },
  {
   "cell_type": "code",
   "execution_count": 168,
   "metadata": {},
   "outputs": [],
   "source": [
    "from sklearn.metrics import confusion_matrix, precision_score, recall_score, f1_score, accuracy_score"
   ]
  },
  {
   "cell_type": "code",
   "execution_count": 151,
   "metadata": {},
   "outputs": [],
   "source": [
    "y_train = data.loc[data['Year']!=2020, 'MVP']\n",
    "y_test = data.loc[data['Year']==2020, 'MVP']"
   ]
  },
  {
   "cell_type": "markdown",
   "metadata": {},
   "source": [
    "### Naive Bayes"
   ]
  },
  {
   "cell_type": "code",
   "execution_count": null,
   "metadata": {},
   "outputs": [],
   "source": [
    "from sklearn.naive_bayes import MultinomialNB"
   ]
  },
  {
   "cell_type": "code",
   "execution_count": 157,
   "metadata": {},
   "outputs": [
    {
     "data": {
      "text/plain": [
       "''"
      ]
     },
     "execution_count": 157,
     "metadata": {},
     "output_type": "execute_result"
    }
   ],
   "source": [
    "nb = Pipeline([('pipeline', pipeline),\n",
    "                ('nb', MultinomialNB())])\n",
    "\n",
    "nb.fit(X_train, y_train)\n",
    ";"
   ]
  },
  {
   "cell_type": "code",
   "execution_count": 177,
   "metadata": {},
   "outputs": [
    {
     "name": "stdout",
     "output_type": "stream",
     "text": [
      "0.9295774647887324\n",
      "0.0\n"
     ]
    },
    {
     "data": {
      "text/plain": [
       "array([[264,   0],\n",
       "       [ 20,   0]], dtype=int64)"
      ]
     },
     "execution_count": 177,
     "metadata": {},
     "output_type": "execute_result"
    }
   ],
   "source": [
    "yhat_train = nb.predict(X_train)\n",
    "\n",
    "print(accuracy_score(y_train, yhat_train))\n",
    "print(f1_score(y_train, yhat_train))\n",
    "\n",
    "confusion_matrix(y_train, yhat_train)"
   ]
  },
  {
   "cell_type": "code",
   "execution_count": 153,
   "metadata": {},
   "outputs": [
    {
     "data": {
      "text/plain": [
       "array([False, False, False, False, False, False, False, False, False,\n",
       "       False, False, False])"
      ]
     },
     "execution_count": 153,
     "metadata": {},
     "output_type": "execute_result"
    }
   ],
   "source": [
    "yhat = nb.predict(X_test)\n",
    "yhat"
   ]
  },
  {
   "cell_type": "code",
   "execution_count": 159,
   "metadata": {},
   "outputs": [],
   "source": [
    "from sklearn.ensemble import RandomForestClassifier"
   ]
  },
  {
   "cell_type": "code",
   "execution_count": 186,
   "metadata": {},
   "outputs": [
    {
     "data": {
      "text/plain": [
       "''"
      ]
     },
     "execution_count": 186,
     "metadata": {},
     "output_type": "execute_result"
    }
   ],
   "source": [
    "rf = Pipeline([('pipeline', pipeline),\n",
    "                ('rf', RandomForestClassifier())])\n",
    "\n",
    "rf.fit(X_train, y_train)\n",
    ";"
   ]
  },
  {
   "cell_type": "code",
   "execution_count": 187,
   "metadata": {},
   "outputs": [
    {
     "name": "stdout",
     "output_type": "stream",
     "text": [
      "1.0\n",
      "1.0\n"
     ]
    },
    {
     "data": {
      "text/plain": [
       "array([[264,   0],\n",
       "       [  0,  20]], dtype=int64)"
      ]
     },
     "execution_count": 187,
     "metadata": {},
     "output_type": "execute_result"
    }
   ],
   "source": [
    "yhat_train = rf.predict(X_train)\n",
    "\n",
    "print(accuracy_score(y_train, yhat_train))\n",
    "print(f1_score(y_train, yhat_train))\n",
    "\n",
    "confusion_matrix(y_train, yhat_train)"
   ]
  },
  {
   "cell_type": "code",
   "execution_count": 188,
   "metadata": {},
   "outputs": [
    {
     "data": {
      "text/plain": [
       "array([False, False, False, False, False, False, False, False, False,\n",
       "       False, False, False])"
      ]
     },
     "execution_count": 188,
     "metadata": {},
     "output_type": "execute_result"
    }
   ],
   "source": [
    "yhat = rf.predict(X_test)\n",
    "yhat"
   ]
  },
  {
   "cell_type": "markdown",
   "metadata": {},
   "source": [
    "### Boosted Forest"
   ]
  },
  {
   "cell_type": "code",
   "execution_count": 154,
   "metadata": {},
   "outputs": [],
   "source": [
    "from sklearn.ensemble import AdaBoostClassifier"
   ]
  },
  {
   "cell_type": "code",
   "execution_count": 189,
   "metadata": {},
   "outputs": [
    {
     "data": {
      "text/plain": [
       "''"
      ]
     },
     "execution_count": 189,
     "metadata": {},
     "output_type": "execute_result"
    }
   ],
   "source": [
    "ada = Pipeline([('pipeline', pipeline),\n",
    "                ('ada', AdaBoostClassifier())])\n",
    "\n",
    "ada.fit(X_train, y_train)\n",
    ";"
   ]
  },
  {
   "cell_type": "code",
   "execution_count": 190,
   "metadata": {},
   "outputs": [
    {
     "name": "stdout",
     "output_type": "stream",
     "text": [
      "1.0\n",
      "1.0\n"
     ]
    },
    {
     "data": {
      "text/plain": [
       "array([[264,   0],\n",
       "       [  0,  20]], dtype=int64)"
      ]
     },
     "execution_count": 190,
     "metadata": {},
     "output_type": "execute_result"
    }
   ],
   "source": [
    "yhat_train = ada.predict(X_train)\n",
    "\n",
    "print(accuracy_score(y_train, yhat_train))\n",
    "print(f1_score(y_train, yhat_train))\n",
    "\n",
    "confusion_matrix(y_train, yhat_train)"
   ]
  },
  {
   "cell_type": "code",
   "execution_count": 191,
   "metadata": {},
   "outputs": [
    {
     "data": {
      "text/plain": [
       "array([ True, False, False, False, False, False, False, False, False,\n",
       "       False, False, False])"
      ]
     },
     "execution_count": 191,
     "metadata": {},
     "output_type": "execute_result"
    }
   ],
   "source": [
    "yhat = ada.predict(X_test)\n",
    "yhat"
   ]
  }
 ],
 "metadata": {
  "kernelspec": {
   "display_name": "Python 3",
   "language": "python",
   "name": "python3"
  },
  "language_info": {
   "codemirror_mode": {
    "name": "ipython",
    "version": 3
   },
   "file_extension": ".py",
   "mimetype": "text/x-python",
   "name": "python",
   "nbconvert_exporter": "python",
   "pygments_lexer": "ipython3",
   "version": "3.7.4"
  }
 },
 "nbformat": 4,
 "nbformat_minor": 2
}
