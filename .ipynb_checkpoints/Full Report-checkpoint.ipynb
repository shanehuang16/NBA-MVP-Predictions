{
 "cells": [
  {
   "cell_type": "markdown",
   "metadata": {},
   "source": [
    "# NBA MVP Predictions\n",
    "#### Shane Huang"
   ]
  },
  {
   "cell_type": "markdown",
   "metadata": {},
   "source": [
    "## Introduction\n",
    "\n",
    "At the end of every NBA season, the league honors the most significant players with a series of awards such as Rookie of the Year, Most Improved Player, and Defenseive Player of the Year. Of all these awards, the most important one is the Most Valuable Player award (MVP). Since the 1980-81 season, the MVP award has been decided by a selected panel of sports journalists and broadcasters from the US and Canada. The NBA league itself does not specify a set standard or guideline by which voters should follow when casting their votes, as such there is not one clear metric or statistic that clearly determine which player each year deserves the title of MVP.\n",
    "\n",
    "For this project, I looked at some of the metrics found on the basketball statistics website Basketball-Reference.com and used those to try to predict the winner of the MVP award. I focused on using the seasons from 1999-00 to 2018-19 to see if I could build a model to predict the MVP of the 2019-20 season. In short, the question at hand is whether one can use player and team metrics to predict who will win the MVP."
   ]
  },
  {
   "cell_type": "markdown",
   "metadata": {},
   "source": [
    "## Data Collection and Cleaning"
   ]
  },
  {
   "cell_type": "markdown",
   "metadata": {},
   "source": [
    "The specific data that I used for this analysis were from the Most Valuable Player table on the NBA Awards Voting page for each season and the Conference Standings tables on the NBA Season Summary page for each season. The Most Valuable Player table contains each of the players that received at least one MVP vote that season. For each of these MVP candidates, the table provides various of statistics such as points per game and shooting percentage. I know MVP voting is heavily affected by how well a player's team performs so I pulled the Win/Loss percentage and Simple Rating System (simple metric used to describe how good a team is) from the Conference Standings."
   ]
  },
  {
   "cell_type": "markdown",
   "metadata": {},
   "source": [
    "### Data Collection"
   ]
  },
  {
   "cell_type": "markdown",
   "metadata": {},
   "source": [
    "To pull the data I needed, I set up a for loop to go through each year from 2000 to 2020. Inside the loop I adjusted the url for the NBA Awards Voting and NBA Season Summary pages so I could pull them year by year. Then I used the read_html function from the pandas library to read in the tables from each page. Both tables contained some columns that I didn't plan on using so I dropped those.\n",
    "\n",
    "For both tables, I added a 'Year' column so a player's metrics and team's summaries were tied with their specific season.\n",
    "\n",
    "For the team summary tables I had to combine separate tables for the Eastern Conference and the Western Conference. Also, Basketball-Reference.com doesn't have a specific column indicating whether a team made the playoffs that season but instead has an asterisk next to the team name. To address this, I removed the asterisk and instead created a separate column to indicate a playoff appearance. \n",
    "\n",
    "I then combined each season's tables so by the end of the for loop I had two large tables for all seasons from 1999-00 to 2019-2020, one containing the individual metrics of MVP contenders and the other containing season summaries for every team."
   ]
  },
  {
   "cell_type": "code",
   "execution_count": 1,
   "metadata": {},
   "outputs": [],
   "source": [
    "import pandas as pd\n",
    "import numpy as np"
   ]
  },
  {
   "cell_type": "code",
   "execution_count": 2,
   "metadata": {},
   "outputs": [],
   "source": [
    "### Loop through past 20 years to get MVP and team statistics\n",
    "\n",
    "# Initialize MVP and team datasets\n",
    "mvp_data = pd.DataFrame(columns = ['Rank','Player','Age','Tm','Share','G','MP','PTS','TRB','AST','STL','BLK','FG%','3P%','FT%','WS','WS/48','Year'])\n",
    "team_data = pd.DataFrame(columns = ['Team Name','W/L%','SRS','Playoffs','Year'])\n",
    "\n",
    "for year in range(2000,2021):\n",
    "    ## MVP Data\n",
    "    # Create url\n",
    "    mvp_urlparts = ['https://www.basketball-reference.com/awards/awards_',str(year),'.html']\n",
    "    mvp_url = \"\".join(mvp_urlparts)\n",
    "    \n",
    "    # Read in html tables\n",
    "    mvp_dfs = pd.read_html(mvp_url)\n",
    "    \n",
    "    # Pull and format MVP table\n",
    "    mvp = mvp_dfs[0]\n",
    "    mvp.columns = mvp.columns.get_level_values(1)\n",
    "    mvp['Year'] = year\n",
    "    \n",
    "    # Drop unnecessary columns (additional voting numbers)\n",
    "    mvp = mvp.drop(mvp.columns[[4,5,6]], axis=1)\n",
    "    \n",
    "    # Append single year data to total dataset\n",
    "    mvp_data = mvp_data.append(mvp, ignore_index=True)\n",
    "    \n",
    "    \n",
    "    \n",
    "    ## Team Data\n",
    "    # Create url\n",
    "    team_urlparts = ['https://www.basketball-reference.com/leagues/NBA_',str(year),'_standings.html']\n",
    "    team_url = \"\".join(team_urlparts)\n",
    "    \n",
    "    # Read in html tables\n",
    "    team_dfs = pd.read_html(team_url)\n",
    "    \n",
    "    # Pull and combine Eastern and Western Conference tables\n",
    "    team_e = team_dfs[0]\n",
    "    team_w = team_dfs[1]\n",
    "    team_e.rename(columns={team_e.columns[0]: \"Team Name\"}, inplace=True)\n",
    "    team_w.rename(columns={team_w.columns[0]: \"Team Name\"}, inplace=True)\n",
    "    team = pd.concat([team_e,team_w]).reset_index(drop=True)\n",
    "    \n",
    "    # Team names have an '*' if they made the playoffs\n",
    "    # Create column to identify playoff appearance and remove '*' from names\n",
    "    team['Playoffs'] = team['Team Name'].str.contains('\\*')\n",
    "    team['Team Name'] = team['Team Name'].str.replace('*','')\n",
    "    \n",
    "    # Create year id\n",
    "    team['Year'] = year\n",
    "    \n",
    "    # Select drop unnecessary columns (Win column, Loss column, etc.)\n",
    "    team = team.drop(team.columns[[1,2,4,5,6]], axis=1)\n",
    "    \n",
    "    # Append single year data to total data\n",
    "    team_data = team_data.append(team, ignore_index=True)"
   ]
  },
  {
   "cell_type": "code",
   "execution_count": 3,
   "metadata": {},
   "outputs": [
    {
     "data": {
      "text/html": [
       "<div>\n",
       "<style scoped>\n",
       "    .dataframe tbody tr th:only-of-type {\n",
       "        vertical-align: middle;\n",
       "    }\n",
       "\n",
       "    .dataframe tbody tr th {\n",
       "        vertical-align: top;\n",
       "    }\n",
       "\n",
       "    .dataframe thead th {\n",
       "        text-align: right;\n",
       "    }\n",
       "</style>\n",
       "<table border=\"1\" class=\"dataframe\">\n",
       "  <thead>\n",
       "    <tr style=\"text-align: right;\">\n",
       "      <th></th>\n",
       "      <th>Rank</th>\n",
       "      <th>Player</th>\n",
       "      <th>Age</th>\n",
       "      <th>Tm</th>\n",
       "      <th>Share</th>\n",
       "      <th>G</th>\n",
       "      <th>MP</th>\n",
       "      <th>PTS</th>\n",
       "      <th>TRB</th>\n",
       "      <th>AST</th>\n",
       "      <th>STL</th>\n",
       "      <th>BLK</th>\n",
       "      <th>FG%</th>\n",
       "      <th>3P%</th>\n",
       "      <th>FT%</th>\n",
       "      <th>WS</th>\n",
       "      <th>WS/48</th>\n",
       "      <th>Year</th>\n",
       "    </tr>\n",
       "  </thead>\n",
       "  <tbody>\n",
       "    <tr>\n",
       "      <td>0</td>\n",
       "      <td>1</td>\n",
       "      <td>Shaquille O'Neal</td>\n",
       "      <td>27</td>\n",
       "      <td>LAL</td>\n",
       "      <td>0.998</td>\n",
       "      <td>79</td>\n",
       "      <td>40.0</td>\n",
       "      <td>29.7</td>\n",
       "      <td>13.6</td>\n",
       "      <td>3.8</td>\n",
       "      <td>0.5</td>\n",
       "      <td>3.0</td>\n",
       "      <td>0.574</td>\n",
       "      <td>0.000</td>\n",
       "      <td>0.524</td>\n",
       "      <td>18.6</td>\n",
       "      <td>0.283</td>\n",
       "      <td>2000</td>\n",
       "    </tr>\n",
       "    <tr>\n",
       "      <td>1</td>\n",
       "      <td>2</td>\n",
       "      <td>Kevin Garnett</td>\n",
       "      <td>23</td>\n",
       "      <td>MIN</td>\n",
       "      <td>0.337</td>\n",
       "      <td>81</td>\n",
       "      <td>40.0</td>\n",
       "      <td>22.9</td>\n",
       "      <td>11.8</td>\n",
       "      <td>5.0</td>\n",
       "      <td>1.5</td>\n",
       "      <td>1.6</td>\n",
       "      <td>0.497</td>\n",
       "      <td>0.370</td>\n",
       "      <td>0.765</td>\n",
       "      <td>11.6</td>\n",
       "      <td>0.172</td>\n",
       "      <td>2000</td>\n",
       "    </tr>\n",
       "    <tr>\n",
       "      <td>2</td>\n",
       "      <td>3</td>\n",
       "      <td>Alonzo Mourning</td>\n",
       "      <td>29</td>\n",
       "      <td>MIA</td>\n",
       "      <td>0.303</td>\n",
       "      <td>79</td>\n",
       "      <td>34.8</td>\n",
       "      <td>21.7</td>\n",
       "      <td>9.5</td>\n",
       "      <td>1.6</td>\n",
       "      <td>0.5</td>\n",
       "      <td>3.7</td>\n",
       "      <td>0.551</td>\n",
       "      <td>0.000</td>\n",
       "      <td>0.711</td>\n",
       "      <td>12.9</td>\n",
       "      <td>0.226</td>\n",
       "      <td>2000</td>\n",
       "    </tr>\n",
       "    <tr>\n",
       "      <td>3</td>\n",
       "      <td>4</td>\n",
       "      <td>Karl Malone</td>\n",
       "      <td>36</td>\n",
       "      <td>UTA</td>\n",
       "      <td>0.258</td>\n",
       "      <td>82</td>\n",
       "      <td>35.9</td>\n",
       "      <td>25.5</td>\n",
       "      <td>9.5</td>\n",
       "      <td>3.7</td>\n",
       "      <td>1.0</td>\n",
       "      <td>0.9</td>\n",
       "      <td>0.509</td>\n",
       "      <td>0.250</td>\n",
       "      <td>0.797</td>\n",
       "      <td>15.3</td>\n",
       "      <td>0.249</td>\n",
       "      <td>2000</td>\n",
       "    </tr>\n",
       "    <tr>\n",
       "      <td>4</td>\n",
       "      <td>5</td>\n",
       "      <td>Tim Duncan</td>\n",
       "      <td>23</td>\n",
       "      <td>SAS</td>\n",
       "      <td>0.205</td>\n",
       "      <td>74</td>\n",
       "      <td>38.9</td>\n",
       "      <td>23.2</td>\n",
       "      <td>12.4</td>\n",
       "      <td>3.2</td>\n",
       "      <td>0.9</td>\n",
       "      <td>2.2</td>\n",
       "      <td>0.490</td>\n",
       "      <td>0.091</td>\n",
       "      <td>0.761</td>\n",
       "      <td>13.0</td>\n",
       "      <td>0.218</td>\n",
       "      <td>2000</td>\n",
       "    </tr>\n",
       "    <tr>\n",
       "      <td>...</td>\n",
       "      <td>...</td>\n",
       "      <td>...</td>\n",
       "      <td>...</td>\n",
       "      <td>...</td>\n",
       "      <td>...</td>\n",
       "      <td>...</td>\n",
       "      <td>...</td>\n",
       "      <td>...</td>\n",
       "      <td>...</td>\n",
       "      <td>...</td>\n",
       "      <td>...</td>\n",
       "      <td>...</td>\n",
       "      <td>...</td>\n",
       "      <td>...</td>\n",
       "      <td>...</td>\n",
       "      <td>...</td>\n",
       "      <td>...</td>\n",
       "      <td>...</td>\n",
       "    </tr>\n",
       "    <tr>\n",
       "      <td>294</td>\n",
       "      <td>8</td>\n",
       "      <td>Damian Lillard</td>\n",
       "      <td>29</td>\n",
       "      <td>POR</td>\n",
       "      <td>0.023</td>\n",
       "      <td>66</td>\n",
       "      <td>37.5</td>\n",
       "      <td>30.0</td>\n",
       "      <td>4.3</td>\n",
       "      <td>8.0</td>\n",
       "      <td>1.1</td>\n",
       "      <td>0.3</td>\n",
       "      <td>0.463</td>\n",
       "      <td>0.401</td>\n",
       "      <td>0.888</td>\n",
       "      <td>11.6</td>\n",
       "      <td>0.225</td>\n",
       "      <td>2020</td>\n",
       "    </tr>\n",
       "    <tr>\n",
       "      <td>295</td>\n",
       "      <td>9</td>\n",
       "      <td>Nikola Jokić</td>\n",
       "      <td>24</td>\n",
       "      <td>DEN</td>\n",
       "      <td>0.018</td>\n",
       "      <td>73</td>\n",
       "      <td>32.0</td>\n",
       "      <td>19.9</td>\n",
       "      <td>9.7</td>\n",
       "      <td>7.0</td>\n",
       "      <td>1.2</td>\n",
       "      <td>0.6</td>\n",
       "      <td>0.528</td>\n",
       "      <td>0.314</td>\n",
       "      <td>0.817</td>\n",
       "      <td>9.8</td>\n",
       "      <td>0.202</td>\n",
       "      <td>2020</td>\n",
       "    </tr>\n",
       "    <tr>\n",
       "      <td>296</td>\n",
       "      <td>10</td>\n",
       "      <td>Pascal Siakam</td>\n",
       "      <td>25</td>\n",
       "      <td>TOR</td>\n",
       "      <td>0.017</td>\n",
       "      <td>60</td>\n",
       "      <td>35.2</td>\n",
       "      <td>22.9</td>\n",
       "      <td>7.3</td>\n",
       "      <td>3.5</td>\n",
       "      <td>1.0</td>\n",
       "      <td>0.9</td>\n",
       "      <td>0.453</td>\n",
       "      <td>0.359</td>\n",
       "      <td>0.792</td>\n",
       "      <td>5.4</td>\n",
       "      <td>0.123</td>\n",
       "      <td>2020</td>\n",
       "    </tr>\n",
       "    <tr>\n",
       "      <td>297</td>\n",
       "      <td>11</td>\n",
       "      <td>Jimmy Butler</td>\n",
       "      <td>30</td>\n",
       "      <td>MIA</td>\n",
       "      <td>0.009</td>\n",
       "      <td>58</td>\n",
       "      <td>33.8</td>\n",
       "      <td>19.9</td>\n",
       "      <td>6.7</td>\n",
       "      <td>6.0</td>\n",
       "      <td>1.8</td>\n",
       "      <td>0.6</td>\n",
       "      <td>0.455</td>\n",
       "      <td>0.244</td>\n",
       "      <td>0.834</td>\n",
       "      <td>9.0</td>\n",
       "      <td>0.221</td>\n",
       "      <td>2020</td>\n",
       "    </tr>\n",
       "    <tr>\n",
       "      <td>298</td>\n",
       "      <td>12</td>\n",
       "      <td>Jayson Tatum</td>\n",
       "      <td>21</td>\n",
       "      <td>BOS</td>\n",
       "      <td>0.001</td>\n",
       "      <td>66</td>\n",
       "      <td>34.3</td>\n",
       "      <td>23.4</td>\n",
       "      <td>7.0</td>\n",
       "      <td>3.0</td>\n",
       "      <td>1.4</td>\n",
       "      <td>0.9</td>\n",
       "      <td>0.450</td>\n",
       "      <td>0.403</td>\n",
       "      <td>0.812</td>\n",
       "      <td>6.9</td>\n",
       "      <td>0.146</td>\n",
       "      <td>2020</td>\n",
       "    </tr>\n",
       "  </tbody>\n",
       "</table>\n",
       "<p>299 rows × 18 columns</p>\n",
       "</div>"
      ],
      "text/plain": [
       "    Rank            Player Age   Tm  Share   G    MP   PTS   TRB  AST  STL  \\\n",
       "0      1  Shaquille O'Neal  27  LAL  0.998  79  40.0  29.7  13.6  3.8  0.5   \n",
       "1      2     Kevin Garnett  23  MIN  0.337  81  40.0  22.9  11.8  5.0  1.5   \n",
       "2      3   Alonzo Mourning  29  MIA  0.303  79  34.8  21.7   9.5  1.6  0.5   \n",
       "3      4       Karl Malone  36  UTA  0.258  82  35.9  25.5   9.5  3.7  1.0   \n",
       "4      5        Tim Duncan  23  SAS  0.205  74  38.9  23.2  12.4  3.2  0.9   \n",
       "..   ...               ...  ..  ...    ...  ..   ...   ...   ...  ...  ...   \n",
       "294    8    Damian Lillard  29  POR  0.023  66  37.5  30.0   4.3  8.0  1.1   \n",
       "295    9      Nikola Jokić  24  DEN  0.018  73  32.0  19.9   9.7  7.0  1.2   \n",
       "296   10     Pascal Siakam  25  TOR  0.017  60  35.2  22.9   7.3  3.5  1.0   \n",
       "297   11      Jimmy Butler  30  MIA  0.009  58  33.8  19.9   6.7  6.0  1.8   \n",
       "298   12      Jayson Tatum  21  BOS  0.001  66  34.3  23.4   7.0  3.0  1.4   \n",
       "\n",
       "     BLK    FG%    3P%    FT%    WS  WS/48  Year  \n",
       "0    3.0  0.574  0.000  0.524  18.6  0.283  2000  \n",
       "1    1.6  0.497  0.370  0.765  11.6  0.172  2000  \n",
       "2    3.7  0.551  0.000  0.711  12.9  0.226  2000  \n",
       "3    0.9  0.509  0.250  0.797  15.3  0.249  2000  \n",
       "4    2.2  0.490  0.091  0.761  13.0  0.218  2000  \n",
       "..   ...    ...    ...    ...   ...    ...   ...  \n",
       "294  0.3  0.463  0.401  0.888  11.6  0.225  2020  \n",
       "295  0.6  0.528  0.314  0.817   9.8  0.202  2020  \n",
       "296  0.9  0.453  0.359  0.792   5.4  0.123  2020  \n",
       "297  0.6  0.455  0.244  0.834   9.0  0.221  2020  \n",
       "298  0.9  0.450  0.403  0.812   6.9  0.146  2020  \n",
       "\n",
       "[299 rows x 18 columns]"
      ]
     },
     "execution_count": 3,
     "metadata": {},
     "output_type": "execute_result"
    }
   ],
   "source": [
    "# MVP Table\n",
    "mvp_data"
   ]
  },
  {
   "cell_type": "code",
   "execution_count": 4,
   "metadata": {},
   "outputs": [
    {
     "data": {
      "text/html": [
       "<div>\n",
       "<style scoped>\n",
       "    .dataframe tbody tr th:only-of-type {\n",
       "        vertical-align: middle;\n",
       "    }\n",
       "\n",
       "    .dataframe tbody tr th {\n",
       "        vertical-align: top;\n",
       "    }\n",
       "\n",
       "    .dataframe thead th {\n",
       "        text-align: right;\n",
       "    }\n",
       "</style>\n",
       "<table border=\"1\" class=\"dataframe\">\n",
       "  <thead>\n",
       "    <tr style=\"text-align: right;\">\n",
       "      <th></th>\n",
       "      <th>Team Name</th>\n",
       "      <th>W/L%</th>\n",
       "      <th>SRS</th>\n",
       "      <th>Playoffs</th>\n",
       "      <th>Year</th>\n",
       "    </tr>\n",
       "  </thead>\n",
       "  <tbody>\n",
       "    <tr>\n",
       "      <td>0</td>\n",
       "      <td>Atlantic Division</td>\n",
       "      <td>Atlantic Division</td>\n",
       "      <td>Atlantic Division</td>\n",
       "      <td>False</td>\n",
       "      <td>2000</td>\n",
       "    </tr>\n",
       "    <tr>\n",
       "      <td>1</td>\n",
       "      <td>Miami Heat</td>\n",
       "      <td>.634</td>\n",
       "      <td>2.75</td>\n",
       "      <td>True</td>\n",
       "      <td>2000</td>\n",
       "    </tr>\n",
       "    <tr>\n",
       "      <td>2</td>\n",
       "      <td>New York Knicks</td>\n",
       "      <td>.610</td>\n",
       "      <td>1.30</td>\n",
       "      <td>True</td>\n",
       "      <td>2000</td>\n",
       "    </tr>\n",
       "    <tr>\n",
       "      <td>3</td>\n",
       "      <td>Philadelphia 76ers</td>\n",
       "      <td>.598</td>\n",
       "      <td>1.02</td>\n",
       "      <td>True</td>\n",
       "      <td>2000</td>\n",
       "    </tr>\n",
       "    <tr>\n",
       "      <td>4</td>\n",
       "      <td>Orlando Magic</td>\n",
       "      <td>.500</td>\n",
       "      <td>0.43</td>\n",
       "      <td>False</td>\n",
       "      <td>2000</td>\n",
       "    </tr>\n",
       "    <tr>\n",
       "      <td>...</td>\n",
       "      <td>...</td>\n",
       "      <td>...</td>\n",
       "      <td>...</td>\n",
       "      <td>...</td>\n",
       "      <td>...</td>\n",
       "    </tr>\n",
       "    <tr>\n",
       "      <td>706</td>\n",
       "      <td>San Antonio Spurs</td>\n",
       "      <td>0.451</td>\n",
       "      <td>-0.65</td>\n",
       "      <td>False</td>\n",
       "      <td>2020</td>\n",
       "    </tr>\n",
       "    <tr>\n",
       "      <td>707</td>\n",
       "      <td>Sacramento Kings</td>\n",
       "      <td>0.431</td>\n",
       "      <td>-1.59</td>\n",
       "      <td>False</td>\n",
       "      <td>2020</td>\n",
       "    </tr>\n",
       "    <tr>\n",
       "      <td>708</td>\n",
       "      <td>New Orleans Pelicans</td>\n",
       "      <td>0.417</td>\n",
       "      <td>-0.55</td>\n",
       "      <td>False</td>\n",
       "      <td>2020</td>\n",
       "    </tr>\n",
       "    <tr>\n",
       "      <td>709</td>\n",
       "      <td>Minnesota Timberwolves</td>\n",
       "      <td>0.297</td>\n",
       "      <td>-4.02</td>\n",
       "      <td>False</td>\n",
       "      <td>2020</td>\n",
       "    </tr>\n",
       "    <tr>\n",
       "      <td>710</td>\n",
       "      <td>Golden State Warriors</td>\n",
       "      <td>0.231</td>\n",
       "      <td>-8.12</td>\n",
       "      <td>False</td>\n",
       "      <td>2020</td>\n",
       "    </tr>\n",
       "  </tbody>\n",
       "</table>\n",
       "<p>711 rows × 5 columns</p>\n",
       "</div>"
      ],
      "text/plain": [
       "                  Team Name               W/L%                SRS Playoffs  \\\n",
       "0         Atlantic Division  Atlantic Division  Atlantic Division    False   \n",
       "1                Miami Heat               .634               2.75     True   \n",
       "2           New York Knicks               .610               1.30     True   \n",
       "3        Philadelphia 76ers               .598               1.02     True   \n",
       "4             Orlando Magic               .500               0.43    False   \n",
       "..                      ...                ...                ...      ...   \n",
       "706       San Antonio Spurs              0.451              -0.65    False   \n",
       "707        Sacramento Kings              0.431              -1.59    False   \n",
       "708    New Orleans Pelicans              0.417              -0.55    False   \n",
       "709  Minnesota Timberwolves              0.297              -4.02    False   \n",
       "710   Golden State Warriors              0.231              -8.12    False   \n",
       "\n",
       "     Year  \n",
       "0    2000  \n",
       "1    2000  \n",
       "2    2000  \n",
       "3    2000  \n",
       "4    2000  \n",
       "..    ...  \n",
       "706  2020  \n",
       "707  2020  \n",
       "708  2020  \n",
       "709  2020  \n",
       "710  2020  \n",
       "\n",
       "[711 rows x 5 columns]"
      ]
     },
     "execution_count": 4,
     "metadata": {},
     "output_type": "execute_result"
    }
   ],
   "source": [
    "# Team Summary Table\n",
    "team_data"
   ]
  },
  {
   "cell_type": "markdown",
   "metadata": {},
   "source": [
    "### Cleaning Tables"
   ]
  },
  {
   "cell_type": "markdown",
   "metadata": {},
   "source": [
    "Once I had the two large tables for MVP and team metrics, I performed some simple cleaning.\n",
    "\n",
    "For the team season summaries I started by converting a couple columns to their appropriate data types. Because not all season summary tables are formatted the same across all seasons on Basketball-Reference.com, some rows ended up having NaNs so I had to drop those.\n",
    "\n",
    "Then for the MVP tables, I created an 'MVP' column by indicating which player each season received the most MVP votes. There were also a handful of players who never shot a 3-pointer so they did not have a value for their 3-point percentage. I simply filled in those missing values with 0 since those types of players were not the type to shoot 3s anyway.\n",
    "\n",
    "Each player in the MVP tables also has a team acronym that I would use as a key to merge in their respective team statistics. I found that three MVP contenders across all 20 seasons had played for more than one team during their MVP contending season and their team acronym was marked 'TOT' instead of a normal team acronym. Because of this I wouldn't be able to merge in their team statistics. Because none of these three players received many MVP votes, I decided to just drop them from the table."
   ]
  },
  {
   "cell_type": "code",
   "execution_count": 5,
   "metadata": {},
   "outputs": [],
   "source": [
    "### Additional Cleaning\n",
    "\n",
    "# Convert 'W/L%' and 'SRS' to floats and drop rows of '...Division'\n",
    "team_data[['W/L%','SRS']] = team_data[['W/L%','SRS']].apply(pd.to_numeric, errors='coerce')\n",
    "team_data.dropna(inplace=True)\n",
    "\n",
    "# Create 'MVP' column based on 'Rank' column (then drop 'Rank')\n",
    "mvp_data['Rank'] = mvp_data['Rank'].apply(pd.to_numeric, errors='coerce')\n",
    "mvp_data['MVP'] = mvp_data['Rank'] == 1\n",
    "mvp_data.drop(columns=['Rank'], inplace=True)\n",
    "\n",
    "# Fill in 3P% NaNs with 0\n",
    "mvp_data['3P%'] = mvp_data['3P%'].fillna(0)\n",
    "\n",
    "# Drop players listed under team 'TOT'\n",
    "mvp_data.drop(mvp_data[mvp_data['Tm']=='TOT'].index, inplace=True)"
   ]
  },
  {
   "cell_type": "markdown",
   "metadata": {},
   "source": [
    "### Merging Tables"
   ]
  },
  {
   "cell_type": "markdown",
   "metadata": {},
   "source": [
    "Now that I had cleaned the two tables, I had to merge them together. Like mentioned earlier, the MVP table had a team acronym for each player, however, the team summary table only has the teams' full names. To merge the two tables together I had to go through and find all the teams that existed over the past 20 seasons (there were a few teams that changed locations and team names) and their matching acronymns. I then created a key to match the full team names with their acronymns and attached the key to the team summary tables. Then I merged the two tables together on the team acronym and season. At the end of this process I had one large table with every MVP contender over the past 20 seasons, their individual season metrics, and their team's season metrics."
   ]
  },
  {
   "cell_type": "code",
   "execution_count": 6,
   "metadata": {},
   "outputs": [],
   "source": [
    "## Merge two datasets together\n",
    "# Create key to connect team name with acronym\n",
    "names = sorted(team_data['Team Name'].unique())\n",
    "abbr = ['ATL','BOS','BRK','CHA','CHO','CHI','CLE','DAL','DEN','DET','GSW','HOU','IND','LAC','LAL','MEM','MIA','MIL','MIN','NJN','NOH','NOP','NOK','NYK','OKC','ORL','PHI','PHO','POR','SAC','SAS','SEA','TOR','UTA','VAN','WAS']\n",
    "\n",
    "key = pd.DataFrame(list(zip(names,abbr)), columns=['Team Name','Tm'])\n",
    "\n",
    "# Add key to team_data\n",
    "team_data = team_data.join(key.set_index('Team Name'), on='Team Name')\n",
    "\n",
    "# Charlotte Hornets during 2000-2002 had a different acronym\n",
    "team_data.loc[(team_data['Team Name']=='Charlotte Hornets') & (team_data['Year'].isin([2000,2001,2002])),'Tm'] = 'CHH'\n",
    "\n",
    "# Drop team names\n",
    "team_data.drop(columns=['Team Name'], inplace=True)\n",
    "\n",
    "# Combine datasets\n",
    "data = pd.merge(mvp_data, team_data, how='left', on=['Tm','Year'])"
   ]
  },
  {
   "cell_type": "markdown",
   "metadata": {},
   "source": [
    "### Data Description"
   ]
  },
  {
   "cell_type": "code",
   "execution_count": 7,
   "metadata": {},
   "outputs": [
    {
     "data": {
      "text/html": [
       "<div>\n",
       "<style scoped>\n",
       "    .dataframe tbody tr th:only-of-type {\n",
       "        vertical-align: middle;\n",
       "    }\n",
       "\n",
       "    .dataframe tbody tr th {\n",
       "        vertical-align: top;\n",
       "    }\n",
       "\n",
       "    .dataframe thead th {\n",
       "        text-align: right;\n",
       "    }\n",
       "</style>\n",
       "<table border=\"1\" class=\"dataframe\">\n",
       "  <thead>\n",
       "    <tr style=\"text-align: right;\">\n",
       "      <th></th>\n",
       "      <th>Player</th>\n",
       "      <th>Age</th>\n",
       "      <th>Tm</th>\n",
       "      <th>Share</th>\n",
       "      <th>G</th>\n",
       "      <th>MP</th>\n",
       "      <th>PTS</th>\n",
       "      <th>TRB</th>\n",
       "      <th>AST</th>\n",
       "      <th>STL</th>\n",
       "      <th>...</th>\n",
       "      <th>FG%</th>\n",
       "      <th>3P%</th>\n",
       "      <th>FT%</th>\n",
       "      <th>WS</th>\n",
       "      <th>WS/48</th>\n",
       "      <th>Year</th>\n",
       "      <th>MVP</th>\n",
       "      <th>W/L%</th>\n",
       "      <th>SRS</th>\n",
       "      <th>Playoffs</th>\n",
       "    </tr>\n",
       "  </thead>\n",
       "  <tbody>\n",
       "    <tr>\n",
       "      <td>0</td>\n",
       "      <td>Shaquille O'Neal</td>\n",
       "      <td>27</td>\n",
       "      <td>LAL</td>\n",
       "      <td>0.998</td>\n",
       "      <td>79</td>\n",
       "      <td>40.0</td>\n",
       "      <td>29.7</td>\n",
       "      <td>13.6</td>\n",
       "      <td>3.8</td>\n",
       "      <td>0.5</td>\n",
       "      <td>...</td>\n",
       "      <td>0.574</td>\n",
       "      <td>0.000</td>\n",
       "      <td>0.524</td>\n",
       "      <td>18.6</td>\n",
       "      <td>0.283</td>\n",
       "      <td>2000</td>\n",
       "      <td>True</td>\n",
       "      <td>0.817</td>\n",
       "      <td>8.41</td>\n",
       "      <td>True</td>\n",
       "    </tr>\n",
       "    <tr>\n",
       "      <td>1</td>\n",
       "      <td>Kevin Garnett</td>\n",
       "      <td>23</td>\n",
       "      <td>MIN</td>\n",
       "      <td>0.337</td>\n",
       "      <td>81</td>\n",
       "      <td>40.0</td>\n",
       "      <td>22.9</td>\n",
       "      <td>11.8</td>\n",
       "      <td>5.0</td>\n",
       "      <td>1.5</td>\n",
       "      <td>...</td>\n",
       "      <td>0.497</td>\n",
       "      <td>0.370</td>\n",
       "      <td>0.765</td>\n",
       "      <td>11.6</td>\n",
       "      <td>0.172</td>\n",
       "      <td>2000</td>\n",
       "      <td>False</td>\n",
       "      <td>0.610</td>\n",
       "      <td>2.67</td>\n",
       "      <td>True</td>\n",
       "    </tr>\n",
       "    <tr>\n",
       "      <td>2</td>\n",
       "      <td>Alonzo Mourning</td>\n",
       "      <td>29</td>\n",
       "      <td>MIA</td>\n",
       "      <td>0.303</td>\n",
       "      <td>79</td>\n",
       "      <td>34.8</td>\n",
       "      <td>21.7</td>\n",
       "      <td>9.5</td>\n",
       "      <td>1.6</td>\n",
       "      <td>0.5</td>\n",
       "      <td>...</td>\n",
       "      <td>0.551</td>\n",
       "      <td>0.000</td>\n",
       "      <td>0.711</td>\n",
       "      <td>12.9</td>\n",
       "      <td>0.226</td>\n",
       "      <td>2000</td>\n",
       "      <td>False</td>\n",
       "      <td>0.634</td>\n",
       "      <td>2.75</td>\n",
       "      <td>True</td>\n",
       "    </tr>\n",
       "    <tr>\n",
       "      <td>3</td>\n",
       "      <td>Karl Malone</td>\n",
       "      <td>36</td>\n",
       "      <td>UTA</td>\n",
       "      <td>0.258</td>\n",
       "      <td>82</td>\n",
       "      <td>35.9</td>\n",
       "      <td>25.5</td>\n",
       "      <td>9.5</td>\n",
       "      <td>3.7</td>\n",
       "      <td>1.0</td>\n",
       "      <td>...</td>\n",
       "      <td>0.509</td>\n",
       "      <td>0.250</td>\n",
       "      <td>0.797</td>\n",
       "      <td>15.3</td>\n",
       "      <td>0.249</td>\n",
       "      <td>2000</td>\n",
       "      <td>False</td>\n",
       "      <td>0.671</td>\n",
       "      <td>4.52</td>\n",
       "      <td>True</td>\n",
       "    </tr>\n",
       "    <tr>\n",
       "      <td>4</td>\n",
       "      <td>Tim Duncan</td>\n",
       "      <td>23</td>\n",
       "      <td>SAS</td>\n",
       "      <td>0.205</td>\n",
       "      <td>74</td>\n",
       "      <td>38.9</td>\n",
       "      <td>23.2</td>\n",
       "      <td>12.4</td>\n",
       "      <td>3.2</td>\n",
       "      <td>0.9</td>\n",
       "      <td>...</td>\n",
       "      <td>0.490</td>\n",
       "      <td>0.091</td>\n",
       "      <td>0.761</td>\n",
       "      <td>13.0</td>\n",
       "      <td>0.218</td>\n",
       "      <td>2000</td>\n",
       "      <td>False</td>\n",
       "      <td>0.646</td>\n",
       "      <td>5.92</td>\n",
       "      <td>True</td>\n",
       "    </tr>\n",
       "    <tr>\n",
       "      <td>...</td>\n",
       "      <td>...</td>\n",
       "      <td>...</td>\n",
       "      <td>...</td>\n",
       "      <td>...</td>\n",
       "      <td>...</td>\n",
       "      <td>...</td>\n",
       "      <td>...</td>\n",
       "      <td>...</td>\n",
       "      <td>...</td>\n",
       "      <td>...</td>\n",
       "      <td>...</td>\n",
       "      <td>...</td>\n",
       "      <td>...</td>\n",
       "      <td>...</td>\n",
       "      <td>...</td>\n",
       "      <td>...</td>\n",
       "      <td>...</td>\n",
       "      <td>...</td>\n",
       "      <td>...</td>\n",
       "      <td>...</td>\n",
       "      <td>...</td>\n",
       "    </tr>\n",
       "    <tr>\n",
       "      <td>291</td>\n",
       "      <td>Damian Lillard</td>\n",
       "      <td>29</td>\n",
       "      <td>POR</td>\n",
       "      <td>0.023</td>\n",
       "      <td>66</td>\n",
       "      <td>37.5</td>\n",
       "      <td>30.0</td>\n",
       "      <td>4.3</td>\n",
       "      <td>8.0</td>\n",
       "      <td>1.1</td>\n",
       "      <td>...</td>\n",
       "      <td>0.463</td>\n",
       "      <td>0.401</td>\n",
       "      <td>0.888</td>\n",
       "      <td>11.6</td>\n",
       "      <td>0.225</td>\n",
       "      <td>2020</td>\n",
       "      <td>False</td>\n",
       "      <td>0.473</td>\n",
       "      <td>-0.61</td>\n",
       "      <td>True</td>\n",
       "    </tr>\n",
       "    <tr>\n",
       "      <td>292</td>\n",
       "      <td>Nikola Jokić</td>\n",
       "      <td>24</td>\n",
       "      <td>DEN</td>\n",
       "      <td>0.018</td>\n",
       "      <td>73</td>\n",
       "      <td>32.0</td>\n",
       "      <td>19.9</td>\n",
       "      <td>9.7</td>\n",
       "      <td>7.0</td>\n",
       "      <td>1.2</td>\n",
       "      <td>...</td>\n",
       "      <td>0.528</td>\n",
       "      <td>0.314</td>\n",
       "      <td>0.817</td>\n",
       "      <td>9.8</td>\n",
       "      <td>0.202</td>\n",
       "      <td>2020</td>\n",
       "      <td>False</td>\n",
       "      <td>0.630</td>\n",
       "      <td>2.35</td>\n",
       "      <td>True</td>\n",
       "    </tr>\n",
       "    <tr>\n",
       "      <td>293</td>\n",
       "      <td>Pascal Siakam</td>\n",
       "      <td>25</td>\n",
       "      <td>TOR</td>\n",
       "      <td>0.017</td>\n",
       "      <td>60</td>\n",
       "      <td>35.2</td>\n",
       "      <td>22.9</td>\n",
       "      <td>7.3</td>\n",
       "      <td>3.5</td>\n",
       "      <td>1.0</td>\n",
       "      <td>...</td>\n",
       "      <td>0.453</td>\n",
       "      <td>0.359</td>\n",
       "      <td>0.792</td>\n",
       "      <td>5.4</td>\n",
       "      <td>0.123</td>\n",
       "      <td>2020</td>\n",
       "      <td>False</td>\n",
       "      <td>0.736</td>\n",
       "      <td>5.97</td>\n",
       "      <td>True</td>\n",
       "    </tr>\n",
       "    <tr>\n",
       "      <td>294</td>\n",
       "      <td>Jimmy Butler</td>\n",
       "      <td>30</td>\n",
       "      <td>MIA</td>\n",
       "      <td>0.009</td>\n",
       "      <td>58</td>\n",
       "      <td>33.8</td>\n",
       "      <td>19.9</td>\n",
       "      <td>6.7</td>\n",
       "      <td>6.0</td>\n",
       "      <td>1.8</td>\n",
       "      <td>...</td>\n",
       "      <td>0.455</td>\n",
       "      <td>0.244</td>\n",
       "      <td>0.834</td>\n",
       "      <td>9.0</td>\n",
       "      <td>0.221</td>\n",
       "      <td>2020</td>\n",
       "      <td>False</td>\n",
       "      <td>0.603</td>\n",
       "      <td>2.59</td>\n",
       "      <td>True</td>\n",
       "    </tr>\n",
       "    <tr>\n",
       "      <td>295</td>\n",
       "      <td>Jayson Tatum</td>\n",
       "      <td>21</td>\n",
       "      <td>BOS</td>\n",
       "      <td>0.001</td>\n",
       "      <td>66</td>\n",
       "      <td>34.3</td>\n",
       "      <td>23.4</td>\n",
       "      <td>7.0</td>\n",
       "      <td>3.0</td>\n",
       "      <td>1.4</td>\n",
       "      <td>...</td>\n",
       "      <td>0.450</td>\n",
       "      <td>0.403</td>\n",
       "      <td>0.812</td>\n",
       "      <td>6.9</td>\n",
       "      <td>0.146</td>\n",
       "      <td>2020</td>\n",
       "      <td>False</td>\n",
       "      <td>0.667</td>\n",
       "      <td>5.83</td>\n",
       "      <td>True</td>\n",
       "    </tr>\n",
       "  </tbody>\n",
       "</table>\n",
       "<p>296 rows × 21 columns</p>\n",
       "</div>"
      ],
      "text/plain": [
       "               Player Age   Tm  Share   G    MP   PTS   TRB  AST  STL  ...  \\\n",
       "0    Shaquille O'Neal  27  LAL  0.998  79  40.0  29.7  13.6  3.8  0.5  ...   \n",
       "1       Kevin Garnett  23  MIN  0.337  81  40.0  22.9  11.8  5.0  1.5  ...   \n",
       "2     Alonzo Mourning  29  MIA  0.303  79  34.8  21.7   9.5  1.6  0.5  ...   \n",
       "3         Karl Malone  36  UTA  0.258  82  35.9  25.5   9.5  3.7  1.0  ...   \n",
       "4          Tim Duncan  23  SAS  0.205  74  38.9  23.2  12.4  3.2  0.9  ...   \n",
       "..                ...  ..  ...    ...  ..   ...   ...   ...  ...  ...  ...   \n",
       "291    Damian Lillard  29  POR  0.023  66  37.5  30.0   4.3  8.0  1.1  ...   \n",
       "292      Nikola Jokić  24  DEN  0.018  73  32.0  19.9   9.7  7.0  1.2  ...   \n",
       "293     Pascal Siakam  25  TOR  0.017  60  35.2  22.9   7.3  3.5  1.0  ...   \n",
       "294      Jimmy Butler  30  MIA  0.009  58  33.8  19.9   6.7  6.0  1.8  ...   \n",
       "295      Jayson Tatum  21  BOS  0.001  66  34.3  23.4   7.0  3.0  1.4  ...   \n",
       "\n",
       "       FG%    3P%    FT%    WS  WS/48  Year    MVP   W/L%   SRS  Playoffs  \n",
       "0    0.574  0.000  0.524  18.6  0.283  2000   True  0.817  8.41      True  \n",
       "1    0.497  0.370  0.765  11.6  0.172  2000  False  0.610  2.67      True  \n",
       "2    0.551  0.000  0.711  12.9  0.226  2000  False  0.634  2.75      True  \n",
       "3    0.509  0.250  0.797  15.3  0.249  2000  False  0.671  4.52      True  \n",
       "4    0.490  0.091  0.761  13.0  0.218  2000  False  0.646  5.92      True  \n",
       "..     ...    ...    ...   ...    ...   ...    ...    ...   ...       ...  \n",
       "291  0.463  0.401  0.888  11.6  0.225  2020  False  0.473 -0.61      True  \n",
       "292  0.528  0.314  0.817   9.8  0.202  2020  False  0.630  2.35      True  \n",
       "293  0.453  0.359  0.792   5.4  0.123  2020  False  0.736  5.97      True  \n",
       "294  0.455  0.244  0.834   9.0  0.221  2020  False  0.603  2.59      True  \n",
       "295  0.450  0.403  0.812   6.9  0.146  2020  False  0.667  5.83      True  \n",
       "\n",
       "[296 rows x 21 columns]"
      ]
     },
     "execution_count": 7,
     "metadata": {},
     "output_type": "execute_result"
    }
   ],
   "source": [
    "# Final Cleaned Data\n",
    "data"
   ]
  },
  {
   "cell_type": "markdown",
   "metadata": {},
   "source": [
    "#### The following are the descriptions of each variable in the final dataset:\n",
    "Age -- Player's age on February 1 of the season\n",
    "<br>Tm -- Team\n",
    "<br>Share -- Percentage of MVP votes received\n",
    "<br>G -- Games Played\n",
    "<br>MP -- Minutes Played Per Game\n",
    "<br>PTS -- Points Per Game\n",
    "<br>TRB -- Total Rebounds Per Game\n",
    "<br>AST -- Assists Per Game\n",
    "<br>STL -- Steals Per Game\n",
    "<br>BLK -- Blocks Per Game\n",
    "<br>FG% -- Field Goal Percentage\n",
    "<br>3P% -- 3-Point Field Goal Percentage\n",
    "<br>FT% -- Free Throw Percentage\n",
    "<br>WS -- Win Shares\n",
    "<br>&emsp;&emsp;An estimate of the number of wins contributed by a player.\n",
    "<br>WS/48 -- Win Shares Per 48 Minutes\n",
    "<br>&emsp;&emsp;An estimate of the number of wins contributed by a player per 48 minutes (league average is approximately .100)\n",
    "<br>Year -- Season\n",
    "<br>MVP -- Awarded MVP or not\n",
    "<br>W/L% -- Win/Loss Percentage\n",
    "<br>SRS -- Simple Rating System.\n",
    "<br>&emsp;&emsp;A team rating that takes into account average point differential and strenght of schedule. The rating is denominated in points above/below average, where zero is average."
   ]
  },
  {
   "cell_type": "markdown",
   "metadata": {},
   "source": [
    "All the variables listed above were used as the explanatory variables except 'Share' and 'MVP'. I created two types of models: regression models and classification models. For regression models I used 'Share' as the response variable and for classification models I used 'MVP' as the response variable."
   ]
  },
  {
   "cell_type": "markdown",
   "metadata": {},
   "source": [
    "## Exploratory Data Analysis"
   ]
  },
  {
   "cell_type": "markdown",
   "metadata": {},
   "source": [
    "To visually explore the data, I created some scatterplots of various explanatory variables against 'Share'. I also colored the points according to whether the player won MVP or not. The explanatory variables I chose to plot were the main metrics I see often cited when discussing MVP: points per game, field-goal percentage, win share, win/loss percentage, and simple rating system. For the most part, they all followed a similar pattern: slightly positive linear relationship. W/L% had the strongest looking relationship and FG% had the weakest. However none of the relationships were particularly strong so I don't believe any single one of these metrics is the main deciding point for winning MVP."
   ]
  },
  {
   "cell_type": "code",
   "execution_count": 8,
   "metadata": {},
   "outputs": [],
   "source": [
    "import matplotlib.pyplot as plt"
   ]
  },
  {
   "cell_type": "code",
   "execution_count": 9,
   "metadata": {},
   "outputs": [
    {
     "data": {
      "image/png": "[encoded data removed]",
      "text/plain": [
       "<Figure size 432x288 with 1 Axes>"
      ]
     },
     "metadata": {
      "needs_background": "light"
     },
     "output_type": "display_data"
    }
   ],
   "source": [
    "# Share vs PTS\n",
    "plt.scatter(data.loc[data['MVP']==True]['PTS'], data.loc[data['MVP']==True]['Share'], label='MVP')\n",
    "plt.scatter(data.loc[data['MVP']==False]['PTS'], data.loc[data['MVP']==False]['Share'], label='Non-MVP')\n",
    "plt.ylabel('VoteShare')\n",
    "plt.xlabel('Points per Game')\n",
    "plt.title('Share vs PTS')\n",
    "plt.legend(loc='upper left');"
   ]
  },
  {
   "cell_type": "code",
   "execution_count": 10,
   "metadata": {},
   "outputs": [
    {
     "data": {
      "image/png": "[encoded data removed]",
      "text/plain": [
       "<Figure size 432x288 with 1 Axes>"
      ]
     },
     "metadata": {
      "needs_background": "light"
     },
     "output_type": "display_data"
    }
   ],
   "source": [
    "# Share vs FG%\n",
    "plt.scatter(data.loc[data['MVP']==True]['FG%'], data.loc[data['MVP']==True]['Share'], label='MVP')\n",
    "plt.scatter(data.loc[data['MVP']==False]['FG%'], data.loc[data['MVP']==False]['Share'], label='Non-MVP')\n",
    "plt.ylabel('Share')\n",
    "plt.xlabel('Field Goal %')\n",
    "plt.title('Share vs FG%')\n",
    "plt.legend(loc='upper right');"
   ]
  },
  {
   "cell_type": "code",
   "execution_count": 11,
   "metadata": {},
   "outputs": [
    {
     "data": {
      "image/png": "[encoded data removed]",
      "text/plain": [
       "<Figure size 432x288 with 1 Axes>"
      ]
     },
     "metadata": {
      "needs_background": "light"
     },
     "output_type": "display_data"
    }
   ],
   "source": [
    "# Share vs WS\n",
    "plt.scatter(data.loc[data['MVP']==True]['WS'], data.loc[data['MVP']==True]['Share'], label='MVP')\n",
    "plt.scatter(data.loc[data['MVP']==False]['WS'], data.loc[data['MVP']==False]['Share'], label='Non-MVP')\n",
    "plt.ylabel('Share')\n",
    "plt.xlabel('Win Share')\n",
    "plt.title('Share vs WS')\n",
    "plt.legend(loc='upper left');"
   ]
  },
  {
   "cell_type": "code",
   "execution_count": 12,
   "metadata": {},
   "outputs": [
    {
     "data": {
      "image/png": "[encoded data removed]",
      "text/plain": [
       "<Figure size 432x288 with 1 Axes>"
      ]
     },
     "metadata": {
      "needs_background": "light"
     },
     "output_type": "display_data"
    }
   ],
   "source": [
    "# Share vs W/L%\n",
    "plt.scatter(data.loc[data['MVP']==True]['W/L%'], data.loc[data['MVP']==True]['Share'], label='MVP')\n",
    "plt.scatter(data.loc[data['MVP']==False]['W/L%'], data.loc[data['MVP']==False]['Share'], label='Non-MVP')\n",
    "plt.ylabel('Share')\n",
    "plt.xlabel('Win/Loss %')\n",
    "plt.title('Share vs W/L%')\n",
    "plt.legend(loc='upper left');"
   ]
  },
  {
   "cell_type": "code",
   "execution_count": 13,
   "metadata": {},
   "outputs": [
    {
     "data": {
      "image/png": "[encoded data removed]",
      "text/plain": [
       "<Figure size 432x288 with 1 Axes>"
      ]
     },
     "metadata": {
      "needs_background": "light"
     },
     "output_type": "display_data"
    }
   ],
   "source": [
    "# Share vs SRS\n",
    "plt.scatter(data.loc[data['MVP']==True]['SRS'], data.loc[data['MVP']==True]['Share'], label='MVP')\n",
    "plt.scatter(data.loc[data['MVP']==False]['SRS'], data.loc[data['MVP']==False]['Share'], label='Non-MVP')\n",
    "plt.ylabel('Share')\n",
    "plt.xlabel('SRS')\n",
    "plt.title('Share vs SRS')\n",
    "plt.legend(loc='upper left');"
   ]
  },
  {
   "cell_type": "markdown",
   "metadata": {},
   "source": [
    "## Modeling"
   ]
  },
  {
   "cell_type": "markdown",
   "metadata": {},
   "source": [
    "As mentioned earlier, I will be performing both regression and classification with a variety of models. For each model I simply used the default hyperparameters.\n",
    "\n",
    "To begin the modeling process, I first split the data into training and testing datasets. As mentioned in the introduction, all the seasons from 1999-00 to 2018-19 were used as training data and the 2019-20 season was used at the testing data."
   ]
  },
  {
   "cell_type": "markdown",
   "metadata": {},
   "source": [
    "### Set Up"
   ]
  },
  {
   "cell_type": "code",
   "execution_count": 14,
   "metadata": {},
   "outputs": [],
   "source": [
    "# Set up training and testing data\n",
    "# 2020 will be the testing data. All years before 2020 will be the training data\n",
    "\n",
    "X_train = data.loc[data['Year']!=2020].drop(['Share','MVP'], axis=1)\n",
    "X_test = data.loc[data['Year']==2020].drop(['Share','MVP'], axis=1)\n",
    "\n",
    "names_test = data.loc[data['Year']==2020, 'Player'].reset_index(drop=True)"
   ]
  },
  {
   "cell_type": "markdown",
   "metadata": {},
   "source": [
    "I then set up a simple pre-processing pipeline. The original data didn't have many issues to address during pre-processing so I just scaled the data and encoded the categorical variables."
   ]
  },
  {
   "cell_type": "code",
   "execution_count": 15,
   "metadata": {},
   "outputs": [],
   "source": [
    "from sklearn.pipeline import Pipeline, FeatureUnion\n",
    "from sklearn.preprocessing import FunctionTransformer, StandardScaler\n",
    "from sklearn.preprocessing import LabelEncoder, OneHotEncoder\n",
    "from sklearn.base import TransformerMixin\n",
    "from sklearn.preprocessing import MinMaxScaler"
   ]
  },
  {
   "cell_type": "code",
   "execution_count": 16,
   "metadata": {},
   "outputs": [],
   "source": [
    "class ColumnExtractor(TransformerMixin):\n",
    "    \n",
    "    def __init__(self, cols):\n",
    "        self.cols = cols\n",
    "    \n",
    "    def fit(self, X, y=None):\n",
    "        return self\n",
    "    \n",
    "    def transform(self, X):\n",
    "        Xcols = X[self.cols]\n",
    "        return Xcols"
   ]
  },
  {
   "cell_type": "code",
   "execution_count": 17,
   "metadata": {},
   "outputs": [],
   "source": [
    "#  Numerical features\n",
    "numeric_columns = X_train.select_dtypes(exclude='object').columns\n",
    "\n",
    "#  Categorical features\n",
    "categorical_columns = X_train.select_dtypes('object').columns\n",
    "\n",
    "#  Define the pipeline to fix the data\n",
    "pipeline = Pipeline([\n",
    "    ('features', FeatureUnion([\n",
    "        ('numeric', Pipeline([\n",
    "            ('extract', ColumnExtractor(numeric_columns)),\n",
    "            ('scale', MinMaxScaler())\n",
    "            #('scale', StandardScaler())\n",
    "        ])),\n",
    "        ('categorical', Pipeline([\n",
    "            ('extract', ColumnExtractor(categorical_columns)),\n",
    "            ('encode', OneHotEncoder(handle_unknown='ignore', sparse=False))\n",
    "        ])),\n",
    "    ]))\n",
    "])"
   ]
  },
  {
   "cell_type": "markdown",
   "metadata": {},
   "source": [
    "### Regression"
   ]
  },
  {
   "cell_type": "code",
   "execution_count": 18,
   "metadata": {},
   "outputs": [],
   "source": [
    "from sklearn.metrics import mean_squared_error, r2_score, mean_absolute_error"
   ]
  },
  {
   "cell_type": "markdown",
   "metadata": {},
   "source": [
    "For regression, I tested the following models:\n",
    "<br>Simple Linear Regression\n",
    "<br>Lasso\n",
    "<br>K Nearest Neighbors\n",
    "<br>Ridge\n",
    "<br>Decision Tree\n",
    "\n",
    "For each model I calculated the root mean squared error, R^2 score, and mean absolute error. I also predicted the MVP voting share for the 2019-20 season. The predicted share results were not especially accurate, likely because in reality all the shares total up to 1.0 so the observed response variables aren't really independent and the model would not be able to account for that. Instead, I was primarily interested if the models were at least able to identify the player that received the highest MVP voting share."
   ]
  },
  {
   "cell_type": "code",
   "execution_count": 19,
   "metadata": {},
   "outputs": [],
   "source": [
    "y_train = data.loc[data['Year']!=2020, 'Share']\n",
    "y_test = data.loc[data['Year']==2020, 'Share']"
   ]
  },
  {
   "cell_type": "markdown",
   "metadata": {},
   "source": [
    "#### Simple Linear Regression"
   ]
  },
  {
   "cell_type": "markdown",
   "metadata": {},
   "source": [
    "The simple linear regression model produced really good evaluation metrics, however the actual predicted MVP voting shares were extremely off. They were all extremely large or extremely negative and the model did not predict the correct player to receive the highest share of votes."
   ]
  },
  {
   "cell_type": "code",
   "execution_count": 20,
   "metadata": {},
   "outputs": [],
   "source": [
    "from sklearn.linear_model import LinearRegression"
   ]
  },
  {
   "cell_type": "code",
   "execution_count": 21,
   "metadata": {},
   "outputs": [],
   "source": [
    "lr_pipeline = Pipeline([('pipeline', pipeline),\n",
    "                         ('lr', LinearRegression())])\n",
    "\n",
    "lr_pipeline.fit(X_train, y_train);"
   ]
  },
  {
   "cell_type": "code",
   "execution_count": 22,
   "metadata": {},
   "outputs": [
    {
     "name": "stdout",
     "output_type": "stream",
     "text": [
      "RMSE: 0.10708460533805864\n",
      "R^2: 0.8540659137215534\n",
      "MAE: 0.0726642636581206\n"
     ]
    }
   ],
   "source": [
    "yhat_train = lr_pipeline.predict(X_train)\n",
    "\n",
    "rmse = np.sqrt(mean_squared_error(y_train, yhat_train))\n",
    "print('RMSE:',rmse)\n",
    "print('R^2:',r2_score(y_train, yhat_train))\n",
    "print('MAE:',mean_absolute_error(y_train, yhat_train))"
   ]
  },
  {
   "cell_type": "code",
   "execution_count": 23,
   "metadata": {},
   "outputs": [
    {
     "data": {
      "text/html": [
       "<div>\n",
       "<style scoped>\n",
       "    .dataframe tbody tr th:only-of-type {\n",
       "        vertical-align: middle;\n",
       "    }\n",
       "\n",
       "    .dataframe tbody tr th {\n",
       "        vertical-align: top;\n",
       "    }\n",
       "\n",
       "    .dataframe thead th {\n",
       "        text-align: right;\n",
       "    }\n",
       "</style>\n",
       "<table border=\"1\" class=\"dataframe\">\n",
       "  <thead>\n",
       "    <tr style=\"text-align: right;\">\n",
       "      <th></th>\n",
       "      <th>Player</th>\n",
       "      <th>Predicted Share</th>\n",
       "    </tr>\n",
       "  </thead>\n",
       "  <tbody>\n",
       "    <tr>\n",
       "      <td>0</td>\n",
       "      <td>Giannis Antetokounmpo</td>\n",
       "      <td>-2.350358e+11</td>\n",
       "    </tr>\n",
       "    <tr>\n",
       "      <td>1</td>\n",
       "      <td>LeBron James</td>\n",
       "      <td>-2.350358e+11</td>\n",
       "    </tr>\n",
       "    <tr>\n",
       "      <td>2</td>\n",
       "      <td>James Harden</td>\n",
       "      <td>-2.350358e+11</td>\n",
       "    </tr>\n",
       "    <tr>\n",
       "      <td>3</td>\n",
       "      <td>Luka Dončić</td>\n",
       "      <td>-4.497884e+11</td>\n",
       "    </tr>\n",
       "    <tr>\n",
       "      <td>4</td>\n",
       "      <td>Kawhi Leonard</td>\n",
       "      <td>-1.328451e+10</td>\n",
       "    </tr>\n",
       "    <tr>\n",
       "      <td>5</td>\n",
       "      <td>Anthony Davis</td>\n",
       "      <td>6.846019e+11</td>\n",
       "    </tr>\n",
       "    <tr>\n",
       "      <td>6</td>\n",
       "      <td>Chris Paul</td>\n",
       "      <td>-2.350358e+11</td>\n",
       "    </tr>\n",
       "    <tr>\n",
       "      <td>7</td>\n",
       "      <td>Damian Lillard</td>\n",
       "      <td>-2.350358e+11</td>\n",
       "    </tr>\n",
       "    <tr>\n",
       "      <td>8</td>\n",
       "      <td>Nikola Jokić</td>\n",
       "      <td>-2.350358e+11</td>\n",
       "    </tr>\n",
       "    <tr>\n",
       "      <td>9</td>\n",
       "      <td>Pascal Siakam</td>\n",
       "      <td>-4.422826e+11</td>\n",
       "    </tr>\n",
       "    <tr>\n",
       "      <td>10</td>\n",
       "      <td>Jimmy Butler</td>\n",
       "      <td>4.740767e+11</td>\n",
       "    </tr>\n",
       "    <tr>\n",
       "      <td>11</td>\n",
       "      <td>Jayson Tatum</td>\n",
       "      <td>-9.945469e+10</td>\n",
       "    </tr>\n",
       "  </tbody>\n",
       "</table>\n",
       "</div>"
      ],
      "text/plain": [
       "                   Player  Predicted Share\n",
       "0   Giannis Antetokounmpo    -2.350358e+11\n",
       "1            LeBron James    -2.350358e+11\n",
       "2            James Harden    -2.350358e+11\n",
       "3             Luka Dončić    -4.497884e+11\n",
       "4           Kawhi Leonard    -1.328451e+10\n",
       "5           Anthony Davis     6.846019e+11\n",
       "6              Chris Paul    -2.350358e+11\n",
       "7          Damian Lillard    -2.350358e+11\n",
       "8            Nikola Jokić    -2.350358e+11\n",
       "9           Pascal Siakam    -4.422826e+11\n",
       "10           Jimmy Butler     4.740767e+11\n",
       "11           Jayson Tatum    -9.945469e+10"
      ]
     },
     "execution_count": 23,
     "metadata": {},
     "output_type": "execute_result"
    }
   ],
   "source": [
    "yhat = lr_pipeline.predict(X_test)\n",
    "pd.concat([names_test,pd.Series(yhat).rename('Predicted Share')], axis=1)"
   ]
  },
  {
   "cell_type": "markdown",
   "metadata": {},
   "source": [
    "#### Lasso"
   ]
  },
  {
   "cell_type": "markdown",
   "metadata": {},
   "source": [
    "Compared to simple linear regression, the lasso regression model did not produce as good of evaluation metrics. However, the predicted 'Share' values were much more reasonable. The model however, did not accurately choose which player should receive the highest share of votes, choosing LeBron James and James Harden over the actual MVP, Giannis Antetokounmpo."
   ]
  },
  {
   "cell_type": "code",
   "execution_count": 24,
   "metadata": {},
   "outputs": [],
   "source": [
    "from sklearn.linear_model import LassoCV"
   ]
  },
  {
   "cell_type": "code",
   "execution_count": 25,
   "metadata": {},
   "outputs": [],
   "source": [
    "%%capture\n",
    "lasso_pipeline = Pipeline([('pipeline', pipeline),\n",
    "                         ('lasso', LassoCV())])\n",
    "\n",
    "lasso_pipeline.fit(X_train, y_train);"
   ]
  },
  {
   "cell_type": "code",
   "execution_count": 26,
   "metadata": {},
   "outputs": [
    {
     "name": "stdout",
     "output_type": "stream",
     "text": [
      "RMSE: 0.19531505249431594\n",
      "R^2: 0.5145169275390007\n",
      "MAE: 0.14734798592777296\n"
     ]
    }
   ],
   "source": [
    "yhat_train = lasso_pipeline.predict(X_train)\n",
    "\n",
    "rmse = np.sqrt(mean_squared_error(y_train, yhat_train))\n",
    "print('RMSE:',rmse)\n",
    "print('R^2:',r2_score(y_train, yhat_train))\n",
    "print('MAE:',mean_absolute_error(y_train, yhat_train))"
   ]
  },
  {
   "cell_type": "code",
   "execution_count": 27,
   "metadata": {},
   "outputs": [
    {
     "data": {
      "text/html": [
       "<div>\n",
       "<style scoped>\n",
       "    .dataframe tbody tr th:only-of-type {\n",
       "        vertical-align: middle;\n",
       "    }\n",
       "\n",
       "    .dataframe tbody tr th {\n",
       "        vertical-align: top;\n",
       "    }\n",
       "\n",
       "    .dataframe thead th {\n",
       "        text-align: right;\n",
       "    }\n",
       "</style>\n",
       "<table border=\"1\" class=\"dataframe\">\n",
       "  <thead>\n",
       "    <tr style=\"text-align: right;\">\n",
       "      <th></th>\n",
       "      <th>Player</th>\n",
       "      <th>Predicted Share</th>\n",
       "    </tr>\n",
       "  </thead>\n",
       "  <tbody>\n",
       "    <tr>\n",
       "      <td>0</td>\n",
       "      <td>Giannis Antetokounmpo</td>\n",
       "      <td>0.351539</td>\n",
       "    </tr>\n",
       "    <tr>\n",
       "      <td>1</td>\n",
       "      <td>LeBron James</td>\n",
       "      <td>0.388909</td>\n",
       "    </tr>\n",
       "    <tr>\n",
       "      <td>2</td>\n",
       "      <td>James Harden</td>\n",
       "      <td>0.354375</td>\n",
       "    </tr>\n",
       "    <tr>\n",
       "      <td>3</td>\n",
       "      <td>Luka Dončić</td>\n",
       "      <td>0.147723</td>\n",
       "    </tr>\n",
       "    <tr>\n",
       "      <td>4</td>\n",
       "      <td>Kawhi Leonard</td>\n",
       "      <td>0.135874</td>\n",
       "    </tr>\n",
       "    <tr>\n",
       "      <td>5</td>\n",
       "      <td>Anthony Davis</td>\n",
       "      <td>0.268409</td>\n",
       "    </tr>\n",
       "    <tr>\n",
       "      <td>6</td>\n",
       "      <td>Chris Paul</td>\n",
       "      <td>0.053655</td>\n",
       "    </tr>\n",
       "    <tr>\n",
       "      <td>7</td>\n",
       "      <td>Damian Lillard</td>\n",
       "      <td>0.191727</td>\n",
       "    </tr>\n",
       "    <tr>\n",
       "      <td>8</td>\n",
       "      <td>Nikola Jokić</td>\n",
       "      <td>0.148300</td>\n",
       "    </tr>\n",
       "    <tr>\n",
       "      <td>9</td>\n",
       "      <td>Pascal Siakam</td>\n",
       "      <td>-0.010729</td>\n",
       "    </tr>\n",
       "    <tr>\n",
       "      <td>10</td>\n",
       "      <td>Jimmy Butler</td>\n",
       "      <td>0.078288</td>\n",
       "    </tr>\n",
       "    <tr>\n",
       "      <td>11</td>\n",
       "      <td>Jayson Tatum</td>\n",
       "      <td>0.007752</td>\n",
       "    </tr>\n",
       "  </tbody>\n",
       "</table>\n",
       "</div>"
      ],
      "text/plain": [
       "                   Player  Predicted Share\n",
       "0   Giannis Antetokounmpo         0.351539\n",
       "1            LeBron James         0.388909\n",
       "2            James Harden         0.354375\n",
       "3             Luka Dončić         0.147723\n",
       "4           Kawhi Leonard         0.135874\n",
       "5           Anthony Davis         0.268409\n",
       "6              Chris Paul         0.053655\n",
       "7          Damian Lillard         0.191727\n",
       "8            Nikola Jokić         0.148300\n",
       "9           Pascal Siakam        -0.010729\n",
       "10           Jimmy Butler         0.078288\n",
       "11           Jayson Tatum         0.007752"
      ]
     },
     "execution_count": 27,
     "metadata": {},
     "output_type": "execute_result"
    }
   ],
   "source": [
    "yhat = lasso_pipeline.predict(X_test)\n",
    "pd.concat([names_test,pd.Series(yhat).rename('Predicted Share')], axis=1)"
   ]
  },
  {
   "cell_type": "markdown",
   "metadata": {},
   "source": [
    "#### K Nearest Neighbors"
   ]
  },
  {
   "cell_type": "markdown",
   "metadata": {},
   "source": [
    "The KNN model performed similarly to the lasso model. The evaluation metrics for both models were similar and both models chose James and Harden over Antetokounmpo."
   ]
  },
  {
   "cell_type": "code",
   "execution_count": 28,
   "metadata": {},
   "outputs": [],
   "source": [
    "from sklearn.neighbors import KNeighborsRegressor"
   ]
  },
  {
   "cell_type": "code",
   "execution_count": 29,
   "metadata": {},
   "outputs": [],
   "source": [
    "knn_pipeline = Pipeline([('pipeline', pipeline),\n",
    "                         ('knn', KNeighborsRegressor())])\n",
    "\n",
    "knn_pipeline.fit(X_train, y_train);"
   ]
  },
  {
   "cell_type": "code",
   "execution_count": 30,
   "metadata": {},
   "outputs": [
    {
     "name": "stdout",
     "output_type": "stream",
     "text": [
      "RMSE: 0.20436885632752294\n",
      "R^2: 0.4684647249043934\n",
      "MAE: 0.14952464788732395\n"
     ]
    }
   ],
   "source": [
    "yhat_train = knn_pipeline.predict(X_train)\n",
    "rmse = np.sqrt(mean_squared_error(y_train, yhat_train))\n",
    "print('RMSE:',rmse)\n",
    "print('R^2:',r2_score(y_train, yhat_train))\n",
    "print('MAE:',mean_absolute_error(y_train, yhat_train))"
   ]
  },
  {
   "cell_type": "code",
   "execution_count": 31,
   "metadata": {},
   "outputs": [
    {
     "data": {
      "text/html": [
       "<div>\n",
       "<style scoped>\n",
       "    .dataframe tbody tr th:only-of-type {\n",
       "        vertical-align: middle;\n",
       "    }\n",
       "\n",
       "    .dataframe tbody tr th {\n",
       "        vertical-align: top;\n",
       "    }\n",
       "\n",
       "    .dataframe thead th {\n",
       "        text-align: right;\n",
       "    }\n",
       "</style>\n",
       "<table border=\"1\" class=\"dataframe\">\n",
       "  <thead>\n",
       "    <tr style=\"text-align: right;\">\n",
       "      <th></th>\n",
       "      <th>Player</th>\n",
       "      <th>Predicted Share</th>\n",
       "    </tr>\n",
       "  </thead>\n",
       "  <tbody>\n",
       "    <tr>\n",
       "      <td>0</td>\n",
       "      <td>Giannis Antetokounmpo</td>\n",
       "      <td>0.2042</td>\n",
       "    </tr>\n",
       "    <tr>\n",
       "      <td>1</td>\n",
       "      <td>LeBron James</td>\n",
       "      <td>0.3420</td>\n",
       "    </tr>\n",
       "    <tr>\n",
       "      <td>2</td>\n",
       "      <td>James Harden</td>\n",
       "      <td>0.3180</td>\n",
       "    </tr>\n",
       "    <tr>\n",
       "      <td>3</td>\n",
       "      <td>Luka Dončić</td>\n",
       "      <td>0.0034</td>\n",
       "    </tr>\n",
       "    <tr>\n",
       "      <td>4</td>\n",
       "      <td>Kawhi Leonard</td>\n",
       "      <td>0.1802</td>\n",
       "    </tr>\n",
       "    <tr>\n",
       "      <td>5</td>\n",
       "      <td>Anthony Davis</td>\n",
       "      <td>0.1750</td>\n",
       "    </tr>\n",
       "    <tr>\n",
       "      <td>6</td>\n",
       "      <td>Chris Paul</td>\n",
       "      <td>0.0660</td>\n",
       "    </tr>\n",
       "    <tr>\n",
       "      <td>7</td>\n",
       "      <td>Damian Lillard</td>\n",
       "      <td>0.0608</td>\n",
       "    </tr>\n",
       "    <tr>\n",
       "      <td>8</td>\n",
       "      <td>Nikola Jokić</td>\n",
       "      <td>0.1254</td>\n",
       "    </tr>\n",
       "    <tr>\n",
       "      <td>9</td>\n",
       "      <td>Pascal Siakam</td>\n",
       "      <td>0.0202</td>\n",
       "    </tr>\n",
       "    <tr>\n",
       "      <td>10</td>\n",
       "      <td>Jimmy Butler</td>\n",
       "      <td>0.1078</td>\n",
       "    </tr>\n",
       "    <tr>\n",
       "      <td>11</td>\n",
       "      <td>Jayson Tatum</td>\n",
       "      <td>0.0076</td>\n",
       "    </tr>\n",
       "  </tbody>\n",
       "</table>\n",
       "</div>"
      ],
      "text/plain": [
       "                   Player  Predicted Share\n",
       "0   Giannis Antetokounmpo           0.2042\n",
       "1            LeBron James           0.3420\n",
       "2            James Harden           0.3180\n",
       "3             Luka Dončić           0.0034\n",
       "4           Kawhi Leonard           0.1802\n",
       "5           Anthony Davis           0.1750\n",
       "6              Chris Paul           0.0660\n",
       "7          Damian Lillard           0.0608\n",
       "8            Nikola Jokić           0.1254\n",
       "9           Pascal Siakam           0.0202\n",
       "10           Jimmy Butler           0.1078\n",
       "11           Jayson Tatum           0.0076"
      ]
     },
     "execution_count": 31,
     "metadata": {},
     "output_type": "execute_result"
    }
   ],
   "source": [
    "yhat = knn_pipeline.predict(X_test)\n",
    "pd.concat([names_test,pd.Series(yhat).rename('Predicted Share')], axis=1)"
   ]
  },
  {
   "cell_type": "markdown",
   "metadata": {},
   "source": [
    "#### Ridge"
   ]
  },
  {
   "cell_type": "markdown",
   "metadata": {},
   "source": [
    "The ridge model was the first model to perform well. It had the best evaluation metrics (except for simple linear regression) and it accurately chose Giannis Antetokounmpo as the player who received the largest share of MVP votes."
   ]
  },
  {
   "cell_type": "code",
   "execution_count": 32,
   "metadata": {},
   "outputs": [],
   "source": [
    "from sklearn.linear_model import Ridge"
   ]
  },
  {
   "cell_type": "code",
   "execution_count": 33,
   "metadata": {},
   "outputs": [],
   "source": [
    "ridge_pipeline = Pipeline([('pipeline', pipeline),\n",
    "                         ('ridge', Ridge())])\n",
    "\n",
    "ridge_pipeline.fit(X_train, y_train);"
   ]
  },
  {
   "cell_type": "code",
   "execution_count": 34,
   "metadata": {},
   "outputs": [
    {
     "name": "stdout",
     "output_type": "stream",
     "text": [
      "RMSE: 0.13855764005759047\n",
      "R^2: 0.7556774131927618\n",
      "MAE: 0.10116927340244353\n"
     ]
    }
   ],
   "source": [
    "yhat_train = ridge_pipeline.predict(X_train)\n",
    "rmse = np.sqrt(mean_squared_error(y_train, yhat_train))\n",
    "print('RMSE:',rmse)\n",
    "print('R^2:',r2_score(y_train, yhat_train))\n",
    "print('MAE:',mean_absolute_error(y_train, yhat_train))"
   ]
  },
  {
   "cell_type": "code",
   "execution_count": 35,
   "metadata": {},
   "outputs": [
    {
     "data": {
      "text/html": [
       "<div>\n",
       "<style scoped>\n",
       "    .dataframe tbody tr th:only-of-type {\n",
       "        vertical-align: middle;\n",
       "    }\n",
       "\n",
       "    .dataframe tbody tr th {\n",
       "        vertical-align: top;\n",
       "    }\n",
       "\n",
       "    .dataframe thead th {\n",
       "        text-align: right;\n",
       "    }\n",
       "</style>\n",
       "<table border=\"1\" class=\"dataframe\">\n",
       "  <thead>\n",
       "    <tr style=\"text-align: right;\">\n",
       "      <th></th>\n",
       "      <th>Player</th>\n",
       "      <th>Predicted Share</th>\n",
       "    </tr>\n",
       "  </thead>\n",
       "  <tbody>\n",
       "    <tr>\n",
       "      <td>0</td>\n",
       "      <td>Giannis Antetokounmpo</td>\n",
       "      <td>0.668925</td>\n",
       "    </tr>\n",
       "    <tr>\n",
       "      <td>1</td>\n",
       "      <td>LeBron James</td>\n",
       "      <td>0.251614</td>\n",
       "    </tr>\n",
       "    <tr>\n",
       "      <td>2</td>\n",
       "      <td>James Harden</td>\n",
       "      <td>0.432387</td>\n",
       "    </tr>\n",
       "    <tr>\n",
       "      <td>3</td>\n",
       "      <td>Luka Dončić</td>\n",
       "      <td>-0.036323</td>\n",
       "    </tr>\n",
       "    <tr>\n",
       "      <td>4</td>\n",
       "      <td>Kawhi Leonard</td>\n",
       "      <td>0.257511</td>\n",
       "    </tr>\n",
       "    <tr>\n",
       "      <td>5</td>\n",
       "      <td>Anthony Davis</td>\n",
       "      <td>0.228880</td>\n",
       "    </tr>\n",
       "    <tr>\n",
       "      <td>6</td>\n",
       "      <td>Chris Paul</td>\n",
       "      <td>-0.040314</td>\n",
       "    </tr>\n",
       "    <tr>\n",
       "      <td>7</td>\n",
       "      <td>Damian Lillard</td>\n",
       "      <td>0.142152</td>\n",
       "    </tr>\n",
       "    <tr>\n",
       "      <td>8</td>\n",
       "      <td>Nikola Jokić</td>\n",
       "      <td>0.222334</td>\n",
       "    </tr>\n",
       "    <tr>\n",
       "      <td>9</td>\n",
       "      <td>Pascal Siakam</td>\n",
       "      <td>-0.144631</td>\n",
       "    </tr>\n",
       "    <tr>\n",
       "      <td>10</td>\n",
       "      <td>Jimmy Butler</td>\n",
       "      <td>0.175721</td>\n",
       "    </tr>\n",
       "    <tr>\n",
       "      <td>11</td>\n",
       "      <td>Jayson Tatum</td>\n",
       "      <td>-0.110352</td>\n",
       "    </tr>\n",
       "  </tbody>\n",
       "</table>\n",
       "</div>"
      ],
      "text/plain": [
       "                   Player  Predicted Share\n",
       "0   Giannis Antetokounmpo         0.668925\n",
       "1            LeBron James         0.251614\n",
       "2            James Harden         0.432387\n",
       "3             Luka Dončić        -0.036323\n",
       "4           Kawhi Leonard         0.257511\n",
       "5           Anthony Davis         0.228880\n",
       "6              Chris Paul        -0.040314\n",
       "7          Damian Lillard         0.142152\n",
       "8            Nikola Jokić         0.222334\n",
       "9           Pascal Siakam        -0.144631\n",
       "10           Jimmy Butler         0.175721\n",
       "11           Jayson Tatum        -0.110352"
      ]
     },
     "execution_count": 35,
     "metadata": {},
     "output_type": "execute_result"
    }
   ],
   "source": [
    "yhat = ridge_pipeline.predict(X_test)\n",
    "pd.concat([names_test,pd.Series(yhat).rename('Predicted Share')], axis=1)"
   ]
  },
  {
   "cell_type": "markdown",
   "metadata": {},
   "source": [
    "#### Decision Tree"
   ]
  },
  {
   "cell_type": "markdown",
   "metadata": {},
   "source": [
    "The decision tree model had by far and away the best evaluation metrics. However, the predicted voting shares were quite off. It chose James Harden as the clear winner without an obvious second place."
   ]
  },
  {
   "cell_type": "code",
   "execution_count": 36,
   "metadata": {},
   "outputs": [],
   "source": [
    "from sklearn.tree import DecisionTreeRegressor"
   ]
  },
  {
   "cell_type": "code",
   "execution_count": 37,
   "metadata": {},
   "outputs": [],
   "source": [
    "tree_pipeline = Pipeline([('pipeline', pipeline),\n",
    "                         ('tree', DecisionTreeRegressor())])\n",
    "\n",
    "tree_pipeline.fit(X_train, y_train);"
   ]
  },
  {
   "cell_type": "code",
   "execution_count": 38,
   "metadata": {},
   "outputs": [
    {
     "name": "stdout",
     "output_type": "stream",
     "text": [
      "RMSE: 1.0293690016637802e-19\n",
      "R^2: 1.0\n",
      "MAE: 2.4432725013757847e-20\n"
     ]
    }
   ],
   "source": [
    "yhat_train = tree_pipeline.predict(X_train)\n",
    "rmse = np.sqrt(mean_squared_error(y_train, yhat_train))\n",
    "print('RMSE:',rmse)\n",
    "print('R^2:',r2_score(y_train, yhat_train))\n",
    "print('MAE:',mean_absolute_error(y_train, yhat_train))"
   ]
  },
  {
   "cell_type": "code",
   "execution_count": 39,
   "metadata": {},
   "outputs": [
    {
     "data": {
      "text/html": [
       "<div>\n",
       "<style scoped>\n",
       "    .dataframe tbody tr th:only-of-type {\n",
       "        vertical-align: middle;\n",
       "    }\n",
       "\n",
       "    .dataframe tbody tr th {\n",
       "        vertical-align: top;\n",
       "    }\n",
       "\n",
       "    .dataframe thead th {\n",
       "        text-align: right;\n",
       "    }\n",
       "</style>\n",
       "<table border=\"1\" class=\"dataframe\">\n",
       "  <thead>\n",
       "    <tr style=\"text-align: right;\">\n",
       "      <th></th>\n",
       "      <th>Player</th>\n",
       "      <th>Predicted Share</th>\n",
       "    </tr>\n",
       "  </thead>\n",
       "  <tbody>\n",
       "    <tr>\n",
       "      <td>0</td>\n",
       "      <td>Giannis Antetokounmpo</td>\n",
       "      <td>0.025</td>\n",
       "    </tr>\n",
       "    <tr>\n",
       "      <td>1</td>\n",
       "      <td>LeBron James</td>\n",
       "      <td>0.029</td>\n",
       "    </tr>\n",
       "    <tr>\n",
       "      <td>2</td>\n",
       "      <td>James Harden</td>\n",
       "      <td>0.404</td>\n",
       "    </tr>\n",
       "    <tr>\n",
       "      <td>3</td>\n",
       "      <td>Luka Dončić</td>\n",
       "      <td>0.001</td>\n",
       "    </tr>\n",
       "    <tr>\n",
       "      <td>4</td>\n",
       "      <td>Kawhi Leonard</td>\n",
       "      <td>0.029</td>\n",
       "    </tr>\n",
       "    <tr>\n",
       "      <td>5</td>\n",
       "      <td>Anthony Davis</td>\n",
       "      <td>0.049</td>\n",
       "    </tr>\n",
       "    <tr>\n",
       "      <td>6</td>\n",
       "      <td>Chris Paul</td>\n",
       "      <td>0.001</td>\n",
       "    </tr>\n",
       "    <tr>\n",
       "      <td>7</td>\n",
       "      <td>Damian Lillard</td>\n",
       "      <td>0.003</td>\n",
       "    </tr>\n",
       "    <tr>\n",
       "      <td>8</td>\n",
       "      <td>Nikola Jokić</td>\n",
       "      <td>0.001</td>\n",
       "    </tr>\n",
       "    <tr>\n",
       "      <td>9</td>\n",
       "      <td>Pascal Siakam</td>\n",
       "      <td>0.001</td>\n",
       "    </tr>\n",
       "    <tr>\n",
       "      <td>10</td>\n",
       "      <td>Jimmy Butler</td>\n",
       "      <td>0.002</td>\n",
       "    </tr>\n",
       "    <tr>\n",
       "      <td>11</td>\n",
       "      <td>Jayson Tatum</td>\n",
       "      <td>0.002</td>\n",
       "    </tr>\n",
       "  </tbody>\n",
       "</table>\n",
       "</div>"
      ],
      "text/plain": [
       "                   Player  Predicted Share\n",
       "0   Giannis Antetokounmpo            0.025\n",
       "1            LeBron James            0.029\n",
       "2            James Harden            0.404\n",
       "3             Luka Dončić            0.001\n",
       "4           Kawhi Leonard            0.029\n",
       "5           Anthony Davis            0.049\n",
       "6              Chris Paul            0.001\n",
       "7          Damian Lillard            0.003\n",
       "8            Nikola Jokić            0.001\n",
       "9           Pascal Siakam            0.001\n",
       "10           Jimmy Butler            0.002\n",
       "11           Jayson Tatum            0.002"
      ]
     },
     "execution_count": 39,
     "metadata": {},
     "output_type": "execute_result"
    }
   ],
   "source": [
    "yhat = tree_pipeline.predict(X_test)\n",
    "pd.concat([names_test,pd.Series(yhat).rename('Predicted Share')], axis=1)"
   ]
  },
  {
   "cell_type": "markdown",
   "metadata": {},
   "source": [
    "When looking at all the models, it becomes clear that predicting MVP voting share is not the appropriate approach - primarily due to the dependent nature of the variable. The decision tree performed the best in terms of evaluation metrics, however these metrics don't mean much if the model isn't able to properly predict the testing data. The only model to accurately choose the MVP was the ridge model."
   ]
  },
  {
   "cell_type": "markdown",
   "metadata": {},
   "source": [
    "### Classification"
   ]
  },
  {
   "cell_type": "code",
   "execution_count": 40,
   "metadata": {},
   "outputs": [],
   "source": [
    "from sklearn.metrics import confusion_matrix, precision_score, recall_score, f1_score, accuracy_score"
   ]
  },
  {
   "cell_type": "markdown",
   "metadata": {},
   "source": [
    "For classification, I tested the following models:\n",
    "<br>Naive Bayes\n",
    "<br>Random Forest\n",
    "<br>ADA Boosted Forest\n",
    "\n",
    "For the evaluation metrics I used accuracy score and F1 score along with a confusion matrix on the training data. I also predicted which player would win MVP in the 2019-20 season. I didn't constrain the models to only pick a single player so they could've picked multiple players or none at all."
   ]
  },
  {
   "cell_type": "code",
   "execution_count": 41,
   "metadata": {},
   "outputs": [],
   "source": [
    "y_train = data.loc[data['Year']!=2020, 'MVP']\n",
    "y_test = data.loc[data['Year']==2020, 'MVP']"
   ]
  },
  {
   "cell_type": "markdown",
   "metadata": {},
   "source": [
    "#### Naive Bayes"
   ]
  },
  {
   "cell_type": "markdown",
   "metadata": {},
   "source": [
    "The naive bayes classification model did not perform very well. It essentially just predicted none of the players (in either the training or testing data) to win MVP. The accuracy score appeared decent primarily because the majority of players in the data weren't MVP. Because the model didn't predict any player to win MVP, the F1 score was 0."
   ]
  },
  {
   "cell_type": "code",
   "execution_count": 42,
   "metadata": {},
   "outputs": [],
   "source": [
    "from sklearn.naive_bayes import MultinomialNB"
   ]
  },
  {
   "cell_type": "code",
   "execution_count": 43,
   "metadata": {},
   "outputs": [],
   "source": [
    "nb = Pipeline([('pipeline', pipeline),\n",
    "                ('nb', MultinomialNB())])\n",
    "\n",
    "nb.fit(X_train, y_train);"
   ]
  },
  {
   "cell_type": "code",
   "execution_count": 44,
   "metadata": {},
   "outputs": [
    {
     "name": "stdout",
     "output_type": "stream",
     "text": [
      "Accuracy Score: 0.9295774647887324\n",
      "F1 Score: 0.0\n",
      "Confusion Matrix:\n"
     ]
    },
    {
     "data": {
      "text/plain": [
       "array([[264,   0],\n",
       "       [ 20,   0]], dtype=int64)"
      ]
     },
     "execution_count": 44,
     "metadata": {},
     "output_type": "execute_result"
    }
   ],
   "source": [
    "yhat_train = nb.predict(X_train)\n",
    "\n",
    "print('Accuracy Score:',accuracy_score(y_train, yhat_train))\n",
    "print('F1 Score:',f1_score(y_train, yhat_train))\n",
    "\n",
    "print('Confusion Matrix:')\n",
    "confusion_matrix(y_train, yhat_train)"
   ]
  },
  {
   "cell_type": "code",
   "execution_count": 45,
   "metadata": {},
   "outputs": [
    {
     "data": {
      "text/html": [
       "<div>\n",
       "<style scoped>\n",
       "    .dataframe tbody tr th:only-of-type {\n",
       "        vertical-align: middle;\n",
       "    }\n",
       "\n",
       "    .dataframe tbody tr th {\n",
       "        vertical-align: top;\n",
       "    }\n",
       "\n",
       "    .dataframe thead th {\n",
       "        text-align: right;\n",
       "    }\n",
       "</style>\n",
       "<table border=\"1\" class=\"dataframe\">\n",
       "  <thead>\n",
       "    <tr style=\"text-align: right;\">\n",
       "      <th></th>\n",
       "      <th>Player</th>\n",
       "      <th>MVP</th>\n",
       "    </tr>\n",
       "  </thead>\n",
       "  <tbody>\n",
       "    <tr>\n",
       "      <td>0</td>\n",
       "      <td>Giannis Antetokounmpo</td>\n",
       "      <td>False</td>\n",
       "    </tr>\n",
       "    <tr>\n",
       "      <td>1</td>\n",
       "      <td>LeBron James</td>\n",
       "      <td>False</td>\n",
       "    </tr>\n",
       "    <tr>\n",
       "      <td>2</td>\n",
       "      <td>James Harden</td>\n",
       "      <td>False</td>\n",
       "    </tr>\n",
       "    <tr>\n",
       "      <td>3</td>\n",
       "      <td>Luka Dončić</td>\n",
       "      <td>False</td>\n",
       "    </tr>\n",
       "    <tr>\n",
       "      <td>4</td>\n",
       "      <td>Kawhi Leonard</td>\n",
       "      <td>False</td>\n",
       "    </tr>\n",
       "    <tr>\n",
       "      <td>5</td>\n",
       "      <td>Anthony Davis</td>\n",
       "      <td>False</td>\n",
       "    </tr>\n",
       "    <tr>\n",
       "      <td>6</td>\n",
       "      <td>Chris Paul</td>\n",
       "      <td>False</td>\n",
       "    </tr>\n",
       "    <tr>\n",
       "      <td>7</td>\n",
       "      <td>Damian Lillard</td>\n",
       "      <td>False</td>\n",
       "    </tr>\n",
       "    <tr>\n",
       "      <td>8</td>\n",
       "      <td>Nikola Jokić</td>\n",
       "      <td>False</td>\n",
       "    </tr>\n",
       "    <tr>\n",
       "      <td>9</td>\n",
       "      <td>Pascal Siakam</td>\n",
       "      <td>False</td>\n",
       "    </tr>\n",
       "    <tr>\n",
       "      <td>10</td>\n",
       "      <td>Jimmy Butler</td>\n",
       "      <td>False</td>\n",
       "    </tr>\n",
       "    <tr>\n",
       "      <td>11</td>\n",
       "      <td>Jayson Tatum</td>\n",
       "      <td>False</td>\n",
       "    </tr>\n",
       "  </tbody>\n",
       "</table>\n",
       "</div>"
      ],
      "text/plain": [
       "                   Player    MVP\n",
       "0   Giannis Antetokounmpo  False\n",
       "1            LeBron James  False\n",
       "2            James Harden  False\n",
       "3             Luka Dončić  False\n",
       "4           Kawhi Leonard  False\n",
       "5           Anthony Davis  False\n",
       "6              Chris Paul  False\n",
       "7          Damian Lillard  False\n",
       "8            Nikola Jokić  False\n",
       "9           Pascal Siakam  False\n",
       "10           Jimmy Butler  False\n",
       "11           Jayson Tatum  False"
      ]
     },
     "execution_count": 45,
     "metadata": {},
     "output_type": "execute_result"
    }
   ],
   "source": [
    "yhat = nb.predict(X_test)\n",
    "pd.concat([names_test,pd.Series(yhat).rename('MVP')], axis=1)"
   ]
  },
  {
   "cell_type": "markdown",
   "metadata": {},
   "source": [
    "#### Random Forest"
   ]
  },
  {
   "cell_type": "markdown",
   "metadata": {},
   "source": [
    "The random forest model performed well in the evaluation metrics by predicting all the actual MVP winners from the training data. However, it was not able to predict the MVP of the 2019-20 season and instead did not predict a winner."
   ]
  },
  {
   "cell_type": "code",
   "execution_count": 46,
   "metadata": {},
   "outputs": [],
   "source": [
    "from sklearn.ensemble import RandomForestClassifier"
   ]
  },
  {
   "cell_type": "code",
   "execution_count": 47,
   "metadata": {},
   "outputs": [],
   "source": [
    "rf = Pipeline([('pipeline', pipeline),\n",
    "                ('rf', RandomForestClassifier())])\n",
    "\n",
    "rf.fit(X_train, y_train);"
   ]
  },
  {
   "cell_type": "code",
   "execution_count": 48,
   "metadata": {},
   "outputs": [
    {
     "name": "stdout",
     "output_type": "stream",
     "text": [
      "Accuracy Score: 1.0\n",
      "F1 Score: 1.0\n",
      "Confusion Matrix:\n"
     ]
    },
    {
     "data": {
      "text/plain": [
       "array([[264,   0],\n",
       "       [  0,  20]], dtype=int64)"
      ]
     },
     "execution_count": 48,
     "metadata": {},
     "output_type": "execute_result"
    }
   ],
   "source": [
    "yhat_train = rf.predict(X_train)\n",
    "\n",
    "print('Accuracy Score:',accuracy_score(y_train, yhat_train))\n",
    "print('F1 Score:',f1_score(y_train, yhat_train))\n",
    "\n",
    "print('Confusion Matrix:')\n",
    "confusion_matrix(y_train, yhat_train)"
   ]
  },
  {
   "cell_type": "code",
   "execution_count": 49,
   "metadata": {},
   "outputs": [
    {
     "data": {
      "text/html": [
       "<div>\n",
       "<style scoped>\n",
       "    .dataframe tbody tr th:only-of-type {\n",
       "        vertical-align: middle;\n",
       "    }\n",
       "\n",
       "    .dataframe tbody tr th {\n",
       "        vertical-align: top;\n",
       "    }\n",
       "\n",
       "    .dataframe thead th {\n",
       "        text-align: right;\n",
       "    }\n",
       "</style>\n",
       "<table border=\"1\" class=\"dataframe\">\n",
       "  <thead>\n",
       "    <tr style=\"text-align: right;\">\n",
       "      <th></th>\n",
       "      <th>Player</th>\n",
       "      <th>MVP</th>\n",
       "    </tr>\n",
       "  </thead>\n",
       "  <tbody>\n",
       "    <tr>\n",
       "      <td>0</td>\n",
       "      <td>Giannis Antetokounmpo</td>\n",
       "      <td>False</td>\n",
       "    </tr>\n",
       "    <tr>\n",
       "      <td>1</td>\n",
       "      <td>LeBron James</td>\n",
       "      <td>False</td>\n",
       "    </tr>\n",
       "    <tr>\n",
       "      <td>2</td>\n",
       "      <td>James Harden</td>\n",
       "      <td>False</td>\n",
       "    </tr>\n",
       "    <tr>\n",
       "      <td>3</td>\n",
       "      <td>Luka Dončić</td>\n",
       "      <td>False</td>\n",
       "    </tr>\n",
       "    <tr>\n",
       "      <td>4</td>\n",
       "      <td>Kawhi Leonard</td>\n",
       "      <td>False</td>\n",
       "    </tr>\n",
       "    <tr>\n",
       "      <td>5</td>\n",
       "      <td>Anthony Davis</td>\n",
       "      <td>False</td>\n",
       "    </tr>\n",
       "    <tr>\n",
       "      <td>6</td>\n",
       "      <td>Chris Paul</td>\n",
       "      <td>False</td>\n",
       "    </tr>\n",
       "    <tr>\n",
       "      <td>7</td>\n",
       "      <td>Damian Lillard</td>\n",
       "      <td>False</td>\n",
       "    </tr>\n",
       "    <tr>\n",
       "      <td>8</td>\n",
       "      <td>Nikola Jokić</td>\n",
       "      <td>False</td>\n",
       "    </tr>\n",
       "    <tr>\n",
       "      <td>9</td>\n",
       "      <td>Pascal Siakam</td>\n",
       "      <td>False</td>\n",
       "    </tr>\n",
       "    <tr>\n",
       "      <td>10</td>\n",
       "      <td>Jimmy Butler</td>\n",
       "      <td>False</td>\n",
       "    </tr>\n",
       "    <tr>\n",
       "      <td>11</td>\n",
       "      <td>Jayson Tatum</td>\n",
       "      <td>False</td>\n",
       "    </tr>\n",
       "  </tbody>\n",
       "</table>\n",
       "</div>"
      ],
      "text/plain": [
       "                   Player    MVP\n",
       "0   Giannis Antetokounmpo  False\n",
       "1            LeBron James  False\n",
       "2            James Harden  False\n",
       "3             Luka Dončić  False\n",
       "4           Kawhi Leonard  False\n",
       "5           Anthony Davis  False\n",
       "6              Chris Paul  False\n",
       "7          Damian Lillard  False\n",
       "8            Nikola Jokić  False\n",
       "9           Pascal Siakam  False\n",
       "10           Jimmy Butler  False\n",
       "11           Jayson Tatum  False"
      ]
     },
     "execution_count": 49,
     "metadata": {},
     "output_type": "execute_result"
    }
   ],
   "source": [
    "yhat = rf.predict(X_test)\n",
    "pd.concat([names_test,pd.Series(yhat).rename('MVP')], axis=1)"
   ]
  },
  {
   "cell_type": "markdown",
   "metadata": {},
   "source": [
    "#### ADA Boosted"
   ]
  },
  {
   "cell_type": "markdown",
   "metadata": {},
   "source": [
    "The ADA boosted model was the best model. It got perfect evaluation metrics and also perfectly predicted Giannis Antetokounmpo as the MVP of the 2019-20 season and did not falsely predict anyone else to win."
   ]
  },
  {
   "cell_type": "code",
   "execution_count": 50,
   "metadata": {},
   "outputs": [],
   "source": [
    "from sklearn.ensemble import AdaBoostClassifier"
   ]
  },
  {
   "cell_type": "code",
   "execution_count": 51,
   "metadata": {},
   "outputs": [],
   "source": [
    "ada = Pipeline([('pipeline', pipeline),\n",
    "                ('ada', AdaBoostClassifier())])\n",
    "\n",
    "ada.fit(X_train, y_train);"
   ]
  },
  {
   "cell_type": "code",
   "execution_count": 52,
   "metadata": {},
   "outputs": [
    {
     "name": "stdout",
     "output_type": "stream",
     "text": [
      "Accuracy Score: 1.0\n",
      "F1 Score: 1.0\n",
      "Confusion Matrix:\n"
     ]
    },
    {
     "data": {
      "text/plain": [
       "array([[264,   0],\n",
       "       [  0,  20]], dtype=int64)"
      ]
     },
     "execution_count": 52,
     "metadata": {},
     "output_type": "execute_result"
    }
   ],
   "source": [
    "yhat_train = ada.predict(X_train)\n",
    "\n",
    "print('Accuracy Score:',accuracy_score(y_train, yhat_train))\n",
    "print('F1 Score:',f1_score(y_train, yhat_train))\n",
    "\n",
    "print('Confusion Matrix:')\n",
    "confusion_matrix(y_train, yhat_train)"
   ]
  },
  {
   "cell_type": "code",
   "execution_count": 53,
   "metadata": {},
   "outputs": [
    {
     "data": {
      "text/html": [
       "<div>\n",
       "<style scoped>\n",
       "    .dataframe tbody tr th:only-of-type {\n",
       "        vertical-align: middle;\n",
       "    }\n",
       "\n",
       "    .dataframe tbody tr th {\n",
       "        vertical-align: top;\n",
       "    }\n",
       "\n",
       "    .dataframe thead th {\n",
       "        text-align: right;\n",
       "    }\n",
       "</style>\n",
       "<table border=\"1\" class=\"dataframe\">\n",
       "  <thead>\n",
       "    <tr style=\"text-align: right;\">\n",
       "      <th></th>\n",
       "      <th>Player</th>\n",
       "      <th>MVP</th>\n",
       "    </tr>\n",
       "  </thead>\n",
       "  <tbody>\n",
       "    <tr>\n",
       "      <td>0</td>\n",
       "      <td>Giannis Antetokounmpo</td>\n",
       "      <td>True</td>\n",
       "    </tr>\n",
       "    <tr>\n",
       "      <td>1</td>\n",
       "      <td>LeBron James</td>\n",
       "      <td>False</td>\n",
       "    </tr>\n",
       "    <tr>\n",
       "      <td>2</td>\n",
       "      <td>James Harden</td>\n",
       "      <td>False</td>\n",
       "    </tr>\n",
       "    <tr>\n",
       "      <td>3</td>\n",
       "      <td>Luka Dončić</td>\n",
       "      <td>False</td>\n",
       "    </tr>\n",
       "    <tr>\n",
       "      <td>4</td>\n",
       "      <td>Kawhi Leonard</td>\n",
       "      <td>False</td>\n",
       "    </tr>\n",
       "    <tr>\n",
       "      <td>5</td>\n",
       "      <td>Anthony Davis</td>\n",
       "      <td>False</td>\n",
       "    </tr>\n",
       "    <tr>\n",
       "      <td>6</td>\n",
       "      <td>Chris Paul</td>\n",
       "      <td>False</td>\n",
       "    </tr>\n",
       "    <tr>\n",
       "      <td>7</td>\n",
       "      <td>Damian Lillard</td>\n",
       "      <td>False</td>\n",
       "    </tr>\n",
       "    <tr>\n",
       "      <td>8</td>\n",
       "      <td>Nikola Jokić</td>\n",
       "      <td>False</td>\n",
       "    </tr>\n",
       "    <tr>\n",
       "      <td>9</td>\n",
       "      <td>Pascal Siakam</td>\n",
       "      <td>False</td>\n",
       "    </tr>\n",
       "    <tr>\n",
       "      <td>10</td>\n",
       "      <td>Jimmy Butler</td>\n",
       "      <td>False</td>\n",
       "    </tr>\n",
       "    <tr>\n",
       "      <td>11</td>\n",
       "      <td>Jayson Tatum</td>\n",
       "      <td>False</td>\n",
       "    </tr>\n",
       "  </tbody>\n",
       "</table>\n",
       "</div>"
      ],
      "text/plain": [
       "                   Player    MVP\n",
       "0   Giannis Antetokounmpo   True\n",
       "1            LeBron James  False\n",
       "2            James Harden  False\n",
       "3             Luka Dončić  False\n",
       "4           Kawhi Leonard  False\n",
       "5           Anthony Davis  False\n",
       "6              Chris Paul  False\n",
       "7          Damian Lillard  False\n",
       "8            Nikola Jokić  False\n",
       "9           Pascal Siakam  False\n",
       "10           Jimmy Butler  False\n",
       "11           Jayson Tatum  False"
      ]
     },
     "execution_count": 53,
     "metadata": {},
     "output_type": "execute_result"
    }
   ],
   "source": [
    "yhat = ada.predict(X_test)\n",
    "pd.concat([names_test,pd.Series(yhat).rename('MVP')], axis=1)"
   ]
  },
  {
   "cell_type": "markdown",
   "metadata": {},
   "source": [
    "The classification models did not perform that much better than the regression models. With the classification models, I think a big issue is the imbalace of the reponse variable. Less than 10% of all the players in the training dataset won MVP and only one of the 11 players in the testing dataset won. This is probably why two of the three models didn't predict any MVP for the testing data."
   ]
  },
  {
   "cell_type": "markdown",
   "metadata": {},
   "source": [
    "## Conclusion"
   ]
  },
  {
   "cell_type": "markdown",
   "metadata": {},
   "source": [
    "After fitting five regression models and three classification models, only two of the models (one in each category) were able to accurately predict the MVP winner of the 2019-20 season. The ridge regression model correctly predicted Giannis Antetokounmpo to receive the largest share of MVP votes and the ADA boosted classification model correctly predicted Antetokounmpo and no one else to win MVP.\n",
    "\n",
    "None of these models were specifically tuned, so if I went through and tuned the hyperparameters I may have gotten more models to accurately predict the MVP winner. Also, this data is inherently difficult to work with given the depedence of the quantitative response and the sparcity of the categorical response as I detailed in each of the respective sections.\n",
    "\n",
    "That being said, having even two un-tuned models correctly predict the MVP shows that there is some rhyme or reason even in a competition as debatable and undefined as the Most Valuable Player award.\n",
    "\n",
    "I am excited to use these models at the end of the upcoming NBA season and see if I can predict the MVP winner before the results come out!"
   ]
  }
 ],
 "metadata": {
  "kernelspec": {
   "display_name": "Python 3",
   "language": "python",
   "name": "python3"
  },
  "language_info": {
   "codemirror_mode": {
    "name": "ipython",
    "version": 3
   },
   "file_extension": ".py",
   "mimetype": "text/x-python",
   "name": "python",
   "nbconvert_exporter": "python",
   "pygments_lexer": "ipython3",
   "version": "3.7.4"
  }
 },
 "nbformat": 4,
 "nbformat_minor": 2
}
