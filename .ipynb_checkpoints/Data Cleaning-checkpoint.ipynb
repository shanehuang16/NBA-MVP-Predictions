{
 "cells": [
  {
   "cell_type": "code",
   "execution_count": 1,
   "metadata": {},
   "outputs": [],
   "source": [
    "import pandas as pd\n",
    "import numpy as np"
   ]
  },
  {
   "cell_type": "code",
   "execution_count": 2,
   "metadata": {},
   "outputs": [],
   "source": [
    "### Loop through past 20 years to get MVP and team statistics\n",
    "\n",
    "# Initialize MVP and team datasets\n",
    "mvp_data = pd.DataFrame(columns = ['Rank','Player','Age','Tm','Share','G','MP','PTS','TRB','AST','STL','BLK','FG%','3P%','FT%','WS','WS/48','Year'])\n",
    "team_data = pd.DataFrame(columns = ['Team Name','W/L%','SRS','Playoffs','Year'])\n",
    "\n",
    "for year in range(2000,2021):\n",
    "    ## MVP Data\n",
    "    # Create url\n",
    "    mvp_urlparts = ['https://www.basketball-reference.com/awards/awards_',str(year),'.html']\n",
    "    mvp_url = \"\".join(mvp_urlparts)\n",
    "    \n",
    "    # Read in html tables\n",
    "    mvp_dfs = pd.read_html(mvp_url)\n",
    "    \n",
    "    # Pull and format MVP table\n",
    "    mvp = mvp_dfs[0]\n",
    "    mvp.columns = mvp.columns.get_level_values(1)\n",
    "    mvp['Year'] = year\n",
    "    \n",
    "    # Drop unnecessary columns\n",
    "    mvp = mvp.drop(mvp.columns[[4,5,6]], axis=1)\n",
    "    \n",
    "    # Append single year data to total dataset\n",
    "    mvp_data = mvp_data.append(mvp, ignore_index=True)\n",
    "    \n",
    "    \n",
    "    \n",
    "    ## Team Data\n",
    "    # Create url\n",
    "    team_urlparts = ['https://www.basketball-reference.com/leagues/NBA_',str(year),'_standings.html']\n",
    "    team_url = \"\".join(team_urlparts)\n",
    "    \n",
    "    # Read in html tables\n",
    "    team_dfs = pd.read_html(team_url)\n",
    "    \n",
    "    # Pull and combine Eastern and Western Conference tables\n",
    "    team_e = team_dfs[0]\n",
    "    team_w = team_dfs[1]\n",
    "    team_e.rename(columns={team_e.columns[0]: \"Team Name\"}, inplace=True)\n",
    "    team_w.rename(columns={team_w.columns[0]: \"Team Name\"}, inplace=True)\n",
    "    team = pd.concat([team_e,team_w]).reset_index(drop=True)\n",
    "    \n",
    "    # Team names have an '*' if they made the playoffs\n",
    "    # Create column to identify playoff appearance and remove '*' from names\n",
    "    team['Playoffs'] = team['Team Name'].str.contains('\\*')\n",
    "    team['Team Name'] = team['Team Name'].str.replace('*','')\n",
    "    \n",
    "    # Create year id\n",
    "    team['Year'] = year\n",
    "    \n",
    "    # Select drop unnecessary columns\n",
    "    team = team.drop(team.columns[[1,2,4,5,6]], axis=1)\n",
    "    \n",
    "    # Append single year data to total data\n",
    "    team_data = team_data.append(team, ignore_index=True)"
   ]
  },
  {
   "cell_type": "code",
   "execution_count": 3,
   "metadata": {},
   "outputs": [],
   "source": [
    "### Additional Cleaning\n",
    "\n",
    "# Convert 'W/L%' and 'SRS' to floats and drop rows of '...Division'\n",
    "team_data[['W/L%','SRS']] = team_data[['W/L%','SRS']].apply(pd.to_numeric, errors='coerce')\n",
    "team_data.dropna(inplace=True)\n",
    "\n",
    "# Create 'MVP' column based on 'Rank' column (then drop 'Rank')\n",
    "mvp_data['MVP'] = mvp_data['Rank'] == '1'\n",
    "mvp_data.drop(columns=['Rank'], inplace=True)"
   ]
  },
  {
   "cell_type": "code",
   "execution_count": 4,
   "metadata": {},
   "outputs": [],
   "source": [
    "## Merge two datasets together\n",
    "# Create key to connect team name with abbreviation\n",
    "names = sorted(team_data['Team Name'].unique())\n",
    "abbr = ['ATL','BOS','BRK','CHA','CHO','CHI','CLE','DAL','DEN','DET','GSW','HOU','IND','LAC','LAL','MEM','MIA','MIL','MIN','NJN','NOH','NOP','NOK','NYK','OKC','ORL','PHI','PHO','POR','SAC','SAS','SEA','TOR','UTA','VAN','WAS']\n",
    "\n",
    "key = pd.DataFrame(list(zip(names,abbr)), columns=['Team Name','Tm'])\n",
    "\n",
    "# Add key to team_data\n",
    "team_data = team_data.join(key.set_index('Team Name'), on='Team Name')\n",
    "\n",
    "# Charlotte Hornets during 2000-2002 had a different abbreviation\n",
    "team_data.loc[(team_data['Team Name']=='Charlotte Hornets') & (team_data['Year'].isin([2000,2001,2002])),'Tm'] = 'CHH'\n",
    "\n",
    "# Drop team names\n",
    "team_data.drop(columns=['Team Name'], inplace=True)\n",
    "\n",
    "# Combine datasets\n",
    "data = pd.merge(mvp_data, team_data, how='left', on=['Tm','Year'])"
   ]
  },
  {
   "cell_type": "code",
   "execution_count": 9,
   "metadata": {},
   "outputs": [],
   "source": [
    "# Export to csv\n",
    "data.to_csv(r'Cleaned Data.csv', index = False)"
   ]
  }
 ],
 "metadata": {
  "kernelspec": {
   "display_name": "Python 3",
   "language": "python",
   "name": "python3"
  },
  "language_info": {
   "codemirror_mode": {
    "name": "ipython",
    "version": 3
   },
   "file_extension": ".py",
   "mimetype": "text/x-python",
   "name": "python",
   "nbconvert_exporter": "python",
   "pygments_lexer": "ipython3",
   "version": "3.7.4"
  }
 },
 "nbformat": 4,
 "nbformat_minor": 2
}
